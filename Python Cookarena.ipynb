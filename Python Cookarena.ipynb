{
 "cells": [
  {
   "cell_type": "code",
   "execution_count": null,
   "id": "519396fa-2b6e-44ae-a525-b2bcd3fe0e5f",
   "metadata": {},
   "outputs": [],
   "source": [
    "print('Hello World')"
   ]
  },
  {
   "cell_type": "code",
   "execution_count": null,
   "id": "3e806789-5a25-4396-9c8a-9b6838f4cfa8",
   "metadata": {},
   "outputs": [],
   "source": [
    "name='Lak'\n",
    "print(f\"{name} is the best\")"
   ]
  },
  {
   "cell_type": "code",
   "execution_count": null,
   "id": "aa7a0f26-bb8d-4694-93a8-54ce0cc28174",
   "metadata": {},
   "outputs": [],
   "source": [
    "#ex 2.1\n",
    "club='Barca'\n",
    "print(club)"
   ]
  },
  {
   "cell_type": "code",
   "execution_count": null,
   "id": "c70b8d5a-97bd-486b-9eae-aebb808910f5",
   "metadata": {},
   "outputs": [],
   "source": [
    "#ex 2.2\n",
    "club='Madrid'\n",
    "print(club)\n",
    "club='Barca'\n",
    "print(club)\n"
   ]
  },
  {
   "cell_type": "code",
   "execution_count": null,
   "id": "f00c52fa-a6d0-42cb-8e73-deedf113f5f5",
   "metadata": {},
   "outputs": [],
   "source": [
    "#ex 2.3\n",
    "friend='Joey'\n",
    "print(f'Hey {friend}, How you doing!?')"
   ]
  },
  {
   "cell_type": "code",
   "execution_count": null,
   "id": "6ce6867e-ceb5-4ab8-8345-1ee55a3a126b",
   "metadata": {},
   "outputs": [],
   "source": [
    "#ex 2.4\n",
    "best='messi'\n",
    "print(best.title())\n",
    "print(best.upper())\n",
    "print(best.lower())"
   ]
  },
  {
   "cell_type": "code",
   "execution_count": null,
   "id": "8a9686a6-5254-4f10-a29a-b6ad8715f0bf",
   "metadata": {},
   "outputs": [],
   "source": [
    "#ex 2.5\n",
    "famous_person='someone'\n",
    "Quote='Let him cook'\n",
    "print(f'{famous_person} once said, \"{Quote}\")"
   ]
  },
  {
   "cell_type": "code",
   "execution_count": null,
   "id": "42e6f26c-76d4-4783-a329-a8f0a11f1d1a",
   "metadata": {},
   "outputs": [],
   "source": [
    "#ex 2.5\n",
    "famous_person='someone'\n",
    "Quote='Let him cook'\n",
    "print(f'{famous_person} once said, \"{Quote}\"')"
   ]
  },
  {
   "cell_type": "code",
   "execution_count": null,
   "id": "501c69bd-8aad-4594-9adc-52c07cc53373",
   "metadata": {},
   "outputs": [],
   "source": [
    "#ex 2.5 and 2.6\n",
    "famous_person='someone'\n",
    "Quote='Let him cook'\n",
    "print(f'{famous_person.title()} once said, \"{Quote}\"')"
   ]
  },
  {
   "cell_type": "code",
   "execution_count": null,
   "id": "eea42a2b-f7b7-4d18-b6fe-c9fbd6d92a23",
   "metadata": {},
   "outputs": [],
   "source": [
    "#ex 2.7\n",
    "players='Players:'\n",
    "Best='\\t\\nYamal\\t\\nLewa\\t\\nRapha'\n",
    "print(f'The Best {players} {Best}') "
   ]
  },
  {
   "cell_type": "code",
   "execution_count": null,
   "id": "d6bc2b43-9234-4dd1-b751-5411ab2b04a3",
   "metadata": {},
   "outputs": [],
   "source": [
    "me='  Lakshin  '\n",
    "print(me)\n",
    "print(me.rstrip())\n",
    "print(me.lstrip())\n",
    "print(me.strip())"
   ]
  },
  {
   "cell_type": "code",
   "execution_count": null,
   "id": "811b2521-3d26-46f9-a77b-93482ae93f78",
   "metadata": {},
   "outputs": [],
   "source": [
    "me='lak'\n",
    "print(me.upper())\n",
    "me=me.title()\n",
    "print(me)"
   ]
  },
  {
   "cell_type": "code",
   "execution_count": null,
   "id": "6a3dc6ca-7d2a-459f-b775-61ea26b8a6e3",
   "metadata": {},
   "outputs": [],
   "source": [
    "#ex 2.8\n",
    "print(2+6)\n",
    "print(24/3)\n",
    "print(17-9)\n",
    "print(4*2)"
   ]
  },
  {
   "cell_type": "code",
   "execution_count": null,
   "id": "e1764d74-eef4-4de5-afca-3726365fc9a1",
   "metadata": {},
   "outputs": [],
   "source": [
    "#ex 2.9\n",
    "favourite_number=4\n",
    "message=f'My favourite number is {favourite_number}'\n",
    "print(message)"
   ]
  },
  {
   "cell_type": "code",
   "execution_count": null,
   "id": "c435dc8f-3eb3-4d03-afa7-b79968dd0374",
   "metadata": {},
   "outputs": [],
   "source": [
    "#ex 2.9\n",
    "favourite_number=4\n",
    "message='My favourite number is ,favourite_number'\n",
    "print(message)"
   ]
  },
  {
   "cell_type": "code",
   "execution_count": null,
   "id": "a8821d1c-c5ad-4f13-a9e6-559aa0ba6819",
   "metadata": {},
   "outputs": [],
   "source": [
    "favourite_number=4\n",
    "print('My fav num is', favourite_number)"
   ]
  },
  {
   "cell_type": "code",
   "execution_count": null,
   "id": "6ad195ab-b30d-4b8e-b8b7-94bd02b0954f",
   "metadata": {},
   "outputs": [],
   "source": [
    "#ex 2.9\n",
    "favourite_number=4\n",
    "message='My favourite number is' ,favourite_number\n",
    "print(message)"
   ]
  },
  {
   "cell_type": "code",
   "execution_count": null,
   "id": "dcf4a721-73fd-4a1a-901a-52042c2e4205",
   "metadata": {},
   "outputs": [],
   "source": [
    "#ex 2.10\n",
    "# Avoid complexity, Embrace simplicity"
   ]
  },
  {
   "cell_type": "code",
   "execution_count": null,
   "id": "dd98521e-0198-4565-b6aa-5b1ff00ff421",
   "metadata": {},
   "outputs": [],
   "source": [
    "#ex 3.1\n",
    "Assasins=['Altair','Ezio','Edward','Connor']\n",
    "print(Assasins[0].upper)\n",
    "print(Assasins[1].upper)\n",
    "print(Assasins[-1].upper)"
   ]
  },
  {
   "cell_type": "code",
   "execution_count": null,
   "id": "30d1a1c6-ef1b-4c3f-94a0-471e55d45481",
   "metadata": {},
   "outputs": [],
   "source": [
    "Assasins=['Altair','Ezio','Edward','Connor']\n",
    "print(Assasins[0].upper())\n",
    "print(Assasins[1].upper())\n",
    "print(Assasins[-1].upper())"
   ]
  },
  {
   "cell_type": "code",
   "execution_count": null,
   "id": "aff08688-17c3-4f63-8117-f5462bc05376",
   "metadata": {},
   "outputs": [],
   "source": [
    "#ex 3.2\n",
    "msg1=f'Hey {Assasins[0].upper()}, you are the best in the Creed!'\n",
    "msg2=f'Hey {Assasins[1].upper()}, you are the best in the Creed!'\n",
    "msg3=f'Hey {Assasins[-2].upper()}, you are the best in the Creed!'\n",
    "msg4=f'Hey {Assasins[-1].upper()}, you are the best in the Creed!'\n",
    "print(msg1\\nmsg2\\nmsg3\\msg4)"
   ]
  },
  {
   "cell_type": "code",
   "execution_count": null,
   "id": "ad2b3437-f1e3-4f6e-a72b-5d14e11b738b",
   "metadata": {},
   "outputs": [],
   "source": [
    "#ex 3.2\n",
    "msg1=f'Hey {Assasins[0].upper()}, you are the best in the Creed!'\n",
    "msg2=f'Hey {Assasins[1].upper()}, you are the best in the Creed!'\n",
    "msg3=f'Hey {Assasins[-2].upper()}, you are the best in the Creed!'\n",
    "msg4=f'Hey {Assasins[-1].upper()}, you are the best in the Creed!'\n",
    "print(f'{msg1}\\n{msg2}\\n{msg3}\\n{msg4}')"
   ]
  },
  {
   "cell_type": "code",
   "execution_count": null,
   "id": "6b254f7d-03bf-4ff6-871a-b9e9fa79ec46",
   "metadata": {},
   "outputs": [],
   "source": [
    "#ex 3.3\n",
    "cars=['Alto','City','Lamborgini','Audi']\n",
    "print(f\"I'd like to own a {cars[-2].upper()} rn\")\n",
    "print(f\"I own a {cars[0].upper()} rn\")\n",
    "print(f\"I've seen many {cars[-1].upper()}'s around here)"
   ]
  },
  {
   "cell_type": "code",
   "execution_count": null,
   "id": "97cd7952-b0a8-4e13-b2a9-b12d4c789e7c",
   "metadata": {},
   "outputs": [],
   "source": [
    "#ex 3.3\n",
    "cars=['Alto','City','Lamborgini','Audi']\n",
    "print(f\"I'd like to own a {cars[-2].upper()} rn\")\n",
    "print(f\"I own a {cars[0].upper()} rn\")\n",
    "print(f\"I've seen many {cars[-1].upper()}'s around here\")"
   ]
  },
  {
   "cell_type": "code",
   "execution_count": null,
   "id": "25b90042-4d8a-4630-b5fb-287bb7b3c1e5",
   "metadata": {},
   "outputs": [],
   "source": [
    "#ex 3.4\n",
    "guests=['Raphinha','Lewandowski','Yamal','Pedri']\n",
    "msg1=f'Welcome to the dinner {guests[0].upper()}'\n",
    "msg2=f'Welcome to the dinner {guests[1].upper()}'\n",
    "msg3=f'Welcome to the dinner {guests[3].upper()}'\n",
    "msg4=f'Welcome to the dinner {guests[-1].upper()}'\n",
    "print(msg1)\n",
    "print(msg2)\n",
    "print(msg3)\n",
    "print(msg4)"
   ]
  },
  {
   "cell_type": "code",
   "execution_count": null,
   "id": "7ac6476b-5515-478d-9adb-3c4261509c71",
   "metadata": {},
   "outputs": [],
   "source": [
    "#ex 3.4\n",
    "guests=['Raphinha','Lewandowski','Yamal','Pedri']\n",
    "msg1=f'Welcome to the dinner {guests[0].upper()}'\n",
    "msg2=f'Welcome to the dinner {guests[1].upper()}'\n",
    "msg3=f'Welcome to the dinner {guests[2].upper()}'\n",
    "msg4=f'Welcome to the dinner {guests[-1].upper()}'\n",
    "print(msg1)\n",
    "print(msg2)\n",
    "print(msg3)\n",
    "print(msg4)"
   ]
  },
  {
   "cell_type": "code",
   "execution_count": null,
   "id": "10054eef-9a74-4872-bae7-0dc34c7e6c02",
   "metadata": {},
   "outputs": [],
   "source": [
    "#ex 3.5\n",
    "print(f'Due to health issues {guests[1].upper()} cannot make it to the Dinner')\n",
    "guests[1]='De Jong'\n",
    "print(guests)\n",
    "msg1=f'Welcome to the dinner {guests[0].upper()}'\n",
    "msg2=f'Welcome to the dinner {guests[1].upper()}'\n",
    "msg3=f'Welcome to the dinner {guests[2].upper()}'\n",
    "msg4=f'Welcome to the dinner {guests[-1].upper()}'\n",
    "print(msg1)\n",
    "print(msg2)\n",
    "print(msg3)\n",
    "print(msg4)\n"
   ]
  },
  {
   "cell_type": "code",
   "execution_count": null,
   "id": "763e5af4-f432-4c70-9e40-37c6554e27e5",
   "metadata": {},
   "outputs": [],
   "source": [
    "#ex 3.6\n",
    "print(f'Ahh!! Good news we found a bigger table for our dinner!!')\n",
    "guests.insert(0,'Olmo')\n",
    "print(guests)\n",
    "guests.insert(2,'Cubarsi')\n",
    "print(guests)\n",
    "guests.append('Inigo')\n",
    "print(guests)\n",
    "msg1=f'Welcome to the dinner {guests[0].upper()}'\n",
    "msg2=f'Welcome to the dinner {guests[1].upper()}'\n",
    "msg3=f'Welcome to the dinner {guests[2].upper()}'\n",
    "msg4=f'Welcome to the dinner {guests[3].upper()}'\n",
    "msg5=f'Welcome to the dinner {guests[4].upper()}'\n",
    "msg6=f'Welcome to the dinner {guests[5].upper()}'\n",
    "msg7=f'Welcome to the dinner {guests[6].upper()}'\n",
    "print(msg1)\n",
    "print(msg2)\n",
    "print(msg3)\n",
    "print(msg4)\n",
    "print(msg5)\n",
    "print(msg6)\n",
    "print(msg7)\n",
    "\n"
   ]
  },
  {
   "cell_type": "code",
   "execution_count": null,
   "id": "f01f1274-3568-4190-89bf-a9bf4238f56f",
   "metadata": {},
   "outputs": [],
   "source": [
    "#ex 3.6\n",
    "print(f\"Nah man... It seems like the table won't return any time soon\")\n",
    "g1=guests.pop(0)\n",
    "print(f'Sorry {g1} theres no space in the table')\n",
    "g2=guests.pop(1)\n",
    "print(f'Sorry {g2} theres no space in the table')\n",
    "g3=guests.pop(2)\n",
    "print(f'Sorry {g3} theres no space in the table')\n",
    "g4=guests.pop(3)\n",
    "print(f'Sorry {g4} theres no space in the table')\n",
    "g5=guests.pop()\n",
    "print(f'Sorry {g1} theres no space in the table')\n"
   ]
  },
  {
   "cell_type": "code",
   "execution_count": null,
   "id": "28c671dd-994f-4ef4-bc7c-76f12e6b78af",
   "metadata": {},
   "outputs": [],
   "source": [
    "#ex 3.6\n",
    "print(f\"Nah man... It seems like the table won't return any time soon\")\n",
    "g1=guests.pop()\n",
    "print(f'Sorry {g1} there is no more space for you...')\n",
    "g2=guests.pop()\n",
    "print(f'Sorry {g2} there is no more space for you...')\n",
    "g3=guests.pop()\n",
    "print(f'Sorry {g3} there is no more space for you...')\n",
    "g4=guests.pop()\n",
    "print(f'Sorry {g4} there is no more space for you...')"
   ]
  },
  {
   "cell_type": "code",
   "execution_count": null,
   "id": "6d12f63c-4c9d-4b0f-a77f-1ea1f6d6356f",
   "metadata": {},
   "outputs": [],
   "source": [
    "print(guests)"
   ]
  },
  {
   "cell_type": "code",
   "execution_count": null,
   "id": "f3d14d60-c4e5-4daa-a457-94d3cb0cabf5",
   "metadata": {},
   "outputs": [],
   "source": [
    "guests=['Raphinha','Lewandowski','Yamal','Pedri']\n",
    "print(f\"Nah man... It seems like the table won't return any time soon\")\n",
    "g1=guests.pop()\n",
    "print(f'Sorry {g1} there is no more space for you...')\n",
    "g2=guests.pop()\n",
    "print(f'Sorry {g2} there is no more space for you...')\n",
    "print(f'{guests[0].upper()} you are still invited bro!!')\n",
    "print(f'{guests[1].upper()} you are still invited bro!!')\n",
    "del guests[0]\n",
    "del guests[0]\n",
    "print(guests)\n",
    "\n"
   ]
  },
  {
   "cell_type": "code",
   "execution_count": null,
   "id": "cf8634f2-d4f8-4d5c-8406-966e99e8617d",
   "metadata": {},
   "outputs": [],
   "source": [
    "places=['Madrid','Barcelona','Lisbon','Jerusalem','Napoli']\n",
    "print(places)\n",
    "print(places.sorted())\n",
    "print(places)"
   ]
  },
  {
   "cell_type": "code",
   "execution_count": null,
   "id": "20d14c58-aae0-4f4d-bb93-dbcaf79c551f",
   "metadata": {},
   "outputs": [],
   "source": [
    "places=['Madrid','Barcelona','Lisbon','Jerusalem','Napoli']\n",
    "print(places)\n",
    "print(sorted(places))\n",
    "print(places)\n",
    "print(sorted(places,reverse=True))\n",
    "print(places)\n",
    "places.reverse()\n",
    "print(places)\n",
    "places.reverse()\n",
    "print(places)\n",
    "places.sort()\n",
    "print(places)\n",
    "places.sort(reverse=true)\n",
    "print(places)\n"
   ]
  },
  {
   "cell_type": "code",
   "execution_count": null,
   "id": "55640f40-772b-4d26-9510-49eb64f3d5f1",
   "metadata": {},
   "outputs": [],
   "source": [
    "#ex 3.8\n",
    "places=['Madrid','Barcelona','Lisbon','Jerusalem','Napoli']\n",
    "print(places)\n",
    "print(sorted(places))\n",
    "print(places)\n",
    "print(sorted(places,reverse=True))\n",
    "print(places)\n",
    "places.reverse()\n",
    "print(places)\n",
    "places.reverse()\n",
    "print(places)\n",
    "places.sort()\n",
    "print(places)\n",
    "places.sort(reverse=True)\n",
    "print(places)\n"
   ]
  },
  {
   "cell_type": "code",
   "execution_count": null,
   "id": "3f5fed9d-b126-43cc-bb4d-7ffee8ed1652",
   "metadata": {},
   "outputs": [],
   "source": [
    "#ex 3.9\n",
    "print(len(places))"
   ]
  },
  {
   "cell_type": "code",
   "execution_count": null,
   "id": "190c708c-c656-486a-a896-033ede006c33",
   "metadata": {},
   "outputs": [],
   "source": [
    "#Try\n",
    "dribblers=['Neymar','Yamal','Messi']\n",
    "for dribbler in dribblers\n",
    "print(f'That was a phenominal dribble {dribblers.upper()}')"
   ]
  },
  {
   "cell_type": "code",
   "execution_count": null,
   "id": "69da80fb-ce59-4077-8fe3-aa3bfb29c747",
   "metadata": {},
   "outputs": [],
   "source": [
    "#Try\n",
    "dribblers=['Neymar','Yamal','Messi']\n",
    "for dribbler in dribblers:\n",
    "    print(f'That was a phenominal dribble {dribblers.upper()}')"
   ]
  },
  {
   "cell_type": "code",
   "execution_count": null,
   "id": "27b7f7f3-1de6-430c-ac9d-1f1d18081812",
   "metadata": {},
   "outputs": [],
   "source": [
    "#Try\n",
    "dribblers=['Neymar','Yamal','Messi']\n",
    "for dribbler in dribblers:\n",
    "    print(f'That was a phenominal dribble {dribbler.upper()}')"
   ]
  },
  {
   "cell_type": "code",
   "execution_count": null,
   "id": "8e49ef10-66da-43d7-96e2-2d6778f83ca3",
   "metadata": {},
   "outputs": [],
   "source": [
    "for dribbler in dribblers:\n",
    "    print(f'Eager to see you take on the next defender,{dribbler.upper()}')"
   ]
  },
  {
   "cell_type": "code",
   "execution_count": null,
   "id": "c704d640-2b15-43e5-8b63-130f5266ba57",
   "metadata": {},
   "outputs": [],
   "source": [
    "#ex 4.1\n",
    "food=['Dosa','Idli','Parotta']\n",
    "for best in food:\n",
    "    print(best)\n",
    "    print(f\"I'd like to eat {best.upper()} with Chutney\")\n",
    "print(\"I love eating za best food...\")"
   ]
  },
  {
   "cell_type": "code",
   "execution_count": null,
   "id": "ded38cd2-8be5-4517-b8fb-a2bf5e62872d",
   "metadata": {},
   "outputs": [],
   "source": [
    "#ex 4.2\n",
    "animals=['Lion','Tiger','Cheetah']\n",
    "for animal in animals:\n",
    "    print(animal)\n",
    "    print(f'Carnivores like {animal.upper()} love hunting')\n",
    "print(f'I would never pet these kinda animals')"
   ]
  },
  {
   "cell_type": "code",
   "execution_count": null,
   "id": "ee422cb1-008d-48d6-983e-689c9d7f605e",
   "metadata": {},
   "outputs": [],
   "source": [
    "#ex 4.3\n",
    "for number in range(1,21):\n",
    "    print(number)"
   ]
  },
  {
   "cell_type": "code",
   "execution_count": null,
   "id": "1ede79f2-5249-4350-a906-fc61dfd5e6db",
   "metadata": {},
   "outputs": [],
   "source": [
    "#ex 4.5\n",
    "for i in range(1,1000001):\n",
    "    print(max(i))"
   ]
  },
  {
   "cell_type": "code",
   "execution_count": null,
   "id": "67426189-3ad4-416e-9772-4d5a3daeaaea",
   "metadata": {},
   "outputs": [],
   "source": [
    "#ex 4.5\n",
    "numbers=[]\n",
    "for i in range(1,1000001):\n",
    "    append.numbers()\n",
    "print(max(numbers))"
   ]
  },
  {
   "cell_type": "code",
   "execution_count": null,
   "id": "7db78365-65a2-474d-9875-6e000a169c36",
   "metadata": {},
   "outputs": [],
   "source": [
    "#ex 4.5\n",
    "numbers=[]\n",
    "for i in range(1,1000001):\n",
    "    numbers.append(i)\n",
    "print(max(numbers))\n",
    "print(min(numbers))"
   ]
  },
  {
   "cell_type": "code",
   "execution_count": null,
   "id": "e7678e9a-81a0-442a-a587-da44baaab738",
   "metadata": {},
   "outputs": [],
   "source": [
    "numbers=range(1,1000001)\n",
    "print(max(numbers))\n",
    "print(min(numbers))\n",
    "print(sum(numbers))\n"
   ]
  },
  {
   "cell_type": "code",
   "execution_count": null,
   "id": "39c5bfb2-d80f-4898-99bc-284e7bd4106c",
   "metadata": {},
   "outputs": [],
   "source": [
    "#ex 4.6\n",
    "for i in range(1,21,2):\n",
    "    print(i)"
   ]
  },
  {
   "cell_type": "code",
   "execution_count": null,
   "id": "c19d647a-eaa2-404c-8abd-d3a8f7ffee07",
   "metadata": {},
   "outputs": [],
   "source": [
    "#ex 4.7\n",
    "multiples=[]\n",
    "for i in range(3,31):\n",
    "    multiple=i*3\n",
    "    multiples.append(multiple)\n",
    "    print(multiple)\n",
    "    #this is not asked in the question"
   ]
  },
  {
   "cell_type": "code",
   "execution_count": null,
   "id": "b9f9dd05-7790-4fd5-86d3-bd6b71572199",
   "metadata": {},
   "outputs": [],
   "source": [
    "#ex 4.7\n",
    "multiples=list(range(3,31,3))\n",
    "for multiple in multiples:\n",
    "    print(multiple)"
   ]
  },
  {
   "cell_type": "code",
   "execution_count": null,
   "id": "a5bf5e00-2b13-4a0e-bfc8-7ecadd846be3",
   "metadata": {},
   "outputs": [],
   "source": [
    "#ex 4.8\n",
    "cubes=[]\n",
    "for i in range(1,11):\n",
    "    cube=(i**3)\n",
    "    cubes.append(cube)\n",
    "    print(cube)"
   ]
  },
  {
   "cell_type": "code",
   "execution_count": null,
   "id": "5cdfbbaa-f0a4-4e55-9b37-b1926f50755d",
   "metadata": {},
   "outputs": [],
   "source": [
    "#ex 4.9\n",
    "cube=[i**3 for i in range(1,31)]\n",
    "print(cube)"
   ]
  },
  {
   "cell_type": "code",
   "execution_count": null,
   "id": "39eb5e82-85ca-4639-acbc-2caeb5b9c011",
   "metadata": {},
   "outputs": [],
   "source": [
    "number = list(range(1,6))\n",
    "print(number)"
   ]
  },
  {
   "cell_type": "code",
   "execution_count": null,
   "id": "918de2a6-573b-4537-a837-f36021deb24e",
   "metadata": {},
   "outputs": [],
   "source": [
    "square=[]\n",
    "for i in range(1,6):\n",
    "    square.append(i**2)\n",
    "for q in square:\n",
    "    print(q)"
   ]
  },
  {
   "cell_type": "code",
   "execution_count": null,
   "id": "18d0987f-abf8-4eb4-80a5-c0bd36deeba4",
   "metadata": {},
   "outputs": [],
   "source": [
    "n=range(1,6)\n",
    "print(list(n))"
   ]
  },
  {
   "cell_type": "code",
   "execution_count": null,
   "id": "ccd459a3-4d20-4644-9277-af69c8314495",
   "metadata": {},
   "outputs": [],
   "source": [
    "p=list(range(1,6))\n",
    "print(p)"
   ]
  },
  {
   "cell_type": "code",
   "execution_count": null,
   "id": "590432d4-3efe-443e-96c3-236cfc8dc419",
   "metadata": {},
   "outputs": [],
   "source": [
    "names=['ramesh','suresh','harish']\n",
    "print(names)\n",
    "del names[0]\n",
    "print(names)\n",
    "names.remove('harish')\n",
    "print(names)"
   ]
  },
  {
   "cell_type": "code",
   "execution_count": null,
   "id": "c8f7fca7-5ed3-4a51-af7e-4d7f435f61da",
   "metadata": {},
   "outputs": [],
   "source": [
    "\n",
    "names.insert(0,'logesh')"
   ]
  },
  {
   "cell_type": "code",
   "execution_count": null,
   "id": "23729920-0864-4e27-9337-7b60826ca530",
   "metadata": {},
   "outputs": [],
   "source": [
    "print(names)"
   ]
  },
  {
   "cell_type": "code",
   "execution_count": null,
   "id": "124b857b-f97c-4d69-a188-e6cadf9e7daa",
   "metadata": {},
   "outputs": [],
   "source": [
    "names.insert('durgeesh')"
   ]
  },
  {
   "cell_type": "code",
   "execution_count": null,
   "id": "c368017a-3405-42d8-9deb-69e332757556",
   "metadata": {},
   "outputs": [],
   "source": [
    "legends=['Messi','Pele','Maradona','Ronaldo','Cruff']\n",
    "for best in legends[0:3]:\n",
    "    print(f\"You are the best of all, {legends.upper()}\")\n",
    "print(f'See ya!!')"
   ]
  },
  {
   "cell_type": "code",
   "execution_count": null,
   "id": "c6b37f73-4162-4cbb-a5b0-03c843b42008",
   "metadata": {},
   "outputs": [],
   "source": [
    "legends=['Messi','Pele','Maradona','Ronaldo','Cruff']\n",
    "for best in legends[0:3]:\n",
    "    print(f\"You are the best of all, {best.upper()}\")\n",
    "print(f'See ya!!')"
   ]
  },
  {
   "cell_type": "code",
   "execution_count": null,
   "id": "647ce96f-f758-4d03-946e-8ade8d3794c1",
   "metadata": {},
   "outputs": [],
   "source": [
    "friend_legends=legends[:]\n",
    "print(legends)\n",
    "print(friend_legends)\n",
    "legends.append('Zidane')\n",
    "friend_legends.append('Xavi')\n",
    "print(legends)\n",
    "print(friend_legends)"
   ]
  },
  {
   "cell_type": "code",
   "execution_count": null,
   "id": "23ee843e-4dfd-4df6-9e6d-79d795a89abb",
   "metadata": {},
   "outputs": [],
   "source": [
    "#ex 4.13\n",
    "buffet=('Dosa','Idli','Puri','Vada','Pongal')\n",
    "print(f\"The food available in this buffet are:\")\n",
    "for food in buffet:\n",
    "    print(food)"
   ]
  },
  {
   "cell_type": "code",
   "execution_count": null,
   "id": "ae94a6e2-af99-41ab-b9d6-3a8952fd54dc",
   "metadata": {},
   "outputs": [],
   "source": [
    "buffet(0)=('Chapthi')\n",
    "buffet(1)=('Parotta')"
   ]
  },
  {
   "cell_type": "code",
   "execution_count": null,
   "id": "4212e986-d307-46ef-b742-5b8ac1610ecf",
   "metadata": {},
   "outputs": [],
   "source": [
    "print(f'The food available in the new revised buffet are:')\n",
    "buffet=('Dosa','Idli','Puri','Appam','Ghee Roast')\n",
    "for food in buffet:\n",
    "    print(food)"
   ]
  },
  {
   "cell_type": "code",
   "execution_count": null,
   "id": "9f80d675-777a-4afd-8aab-971537d235d7",
   "metadata": {},
   "outputs": [],
   "source": [
    "car='audi'\n",
    "print(car=='audi')\n",
    "print(car=='bmw')"
   ]
  },
  {
   "cell_type": "code",
   "execution_count": null,
   "id": "fc5bf95e-6e16-4fe8-bce3-e1b8bc2eaff8",
   "metadata": {},
   "outputs": [],
   "source": [
    "# List of football legends\n",
    "legends = ['Messi', 'Ronaldo', 'Maradona', 'Pele', 'Zidane', 'Cruyff']\n",
    "\n",
    "# Ask user to enter a player's name\n",
    "chosen_player = input(\"Enter the name of a football player: \")\n",
    "\n",
    "# Check GOAT status\n",
    "if chosen_player in legends:\n",
    "    print(f\"{chosen_player} — You are a GOAT 🐐\")\n",
    "else:\n",
    "    print(f\"{chosen_player} — You are NOT a GOAT 😬\")\n"
   ]
  },
  {
   "cell_type": "code",
   "execution_count": null,
   "id": "e850d5a9-3501-4a20-aa4c-69bd9a0202bd",
   "metadata": {},
   "outputs": [],
   "source": [
    "car = 'subaru'\n",
    "print(\"Is car == 'subaru'? I predict True.\")\n",
    "print(car == 'subaru')\n",
    "print(\"\\nIs car == 'audi'? I predict False.\")\n",
    "print(car == 'audi')\n",
    "goat='Messi'\n",
    "print(\"Is the goat=='Messi'? I predict True.\")\n",
    "print(goat=='Messi')\n",
    "print(\"Is the goat='Ronaldo'? I predict False.\")\n",
    "print(goat=='Ronaldo')"
   ]
  },
  {
   "cell_type": "code",
   "execution_count": null,
   "id": "3239d18f-b8e8-4b2d-8ad4-9977a0d5750a",
   "metadata": {},
   "outputs": [],
   "source": [
    "best='Yamal'\n",
    "print(best=='Yamal')\n",
    "print(best=='Doue')\n",
    "print(best=='yamal')\n",
    "print(best.lower()=='yamal')\n",
    "a=9\n",
    "print(a==9)\n",
    "print(a!=9)\n",
    "print(a>20)\n",
    "print(a<20)\n",
    "print(a>=3)\n",
    "print(a<=7)\n",
    "games=['Prince of persia','Assasins Creed','God of War']\n",
    "if 'God of War' in games:\n",
    "    print('It is one of the best games')\n",
    "if else 'Halo' in games:\n",
    "    print('It is not included in the list')\n",
    "else:\n",
    "    print('IDK!!')"
   ]
  },
  {
   "cell_type": "code",
   "execution_count": null,
   "id": "82b1f37d-c5b8-4eb1-a668-28aefc228e4e",
   "metadata": {},
   "outputs": [],
   "source": [
    "best='Yamal'\n",
    "print(best=='Yamal')\n",
    "print(best=='Doue')\n",
    "print(best=='yamal')\n",
    "print(best.lower()=='yamal')\n",
    "a=9\n",
    "print(a==9)\n",
    "print(a!=9)\n",
    "print(a>20)\n",
    "print(a<20)\n",
    "print(a>=3)\n",
    "print(a<=7)\n",
    "games=['Prince of persia','Assasins Creed','God of War']\n",
    "if 'God of War' in games:\n",
    "    print('It is one of the best games')\n",
    "    \n",
    "if'Halo' in games:\n",
    "    print('It is included in the list')\n",
    "else:\n",
    "    print('It is not included in the list')"
   ]
  },
  {
   "cell_type": "code",
   "execution_count": null,
   "id": "1859f575-87ef-4abd-95d7-376b14dde272",
   "metadata": {},
   "outputs": [],
   "source": [
    "Alien_colour='green'\n",
    "if Alien_colour is 'green':\n",
    "    print(\"Congratulations player! You earned 5 points...\")\n",
    "if Alien_colour is 'yellow':\n",
    "    print(\"ALAS!!\")"
   ]
  },
  {
   "cell_type": "code",
   "execution_count": null,
   "id": "5a2ee81d-e015-46e7-8387-522f9113e742",
   "metadata": {},
   "outputs": [],
   "source": [
    "Alien_colour='green'\n",
    "if Alien_colour == 'green':\n",
    "    print(\"Congratulations player! You earned 5 points...\")\n",
    "if Alien_colour == 'yellow':\n",
    "    print(\"ALAS!!\")"
   ]
  },
  {
   "cell_type": "code",
   "execution_count": null,
   "id": "e259d1da-48eb-422b-ab3d-33c18636c961",
   "metadata": {},
   "outputs": [],
   "source": [
    "Alien_colour='green'\n",
    "if Alien_colour == 'green':\n",
    "    print(\"Congratulations player! You earned 5 points...\")\n",
    "else:\n",
    "    print(\"Congratulations player! You earned 10 points...\")\n",
    "Alien_colour='yellow'\n",
    "if Alien_colour == 'green':\n",
    "    print(\"Congratulations player! You earned 5 points...\")\n",
    "else:\n",
    "    print(\"Congratulations player! You earned 10 points...\")\n"
   ]
  },
  {
   "cell_type": "code",
   "execution_count": null,
   "id": "0d88fc24-9711-4470-9b14-1307400003d8",
   "metadata": {},
   "outputs": [],
   "source": [
    "Alien_colour='green'\n",
    "if Alien_colour == 'green':\n",
    "    print(\"Congratulations player! You earned 5 points...\")\n",
    "elif Alien_colour=='red':\n",
    "    print(\"Congratulations player! You earned 15 points...\")\n",
    "else:\n",
    "    print(\"Congratulations player! You earned 10 points...\")\n",
    "Alien_colour='yellow'\n",
    "if Alien_colour == 'green':\n",
    "    print(\"Congratulations player! You earned 5 points...\")\n",
    "elif Alien_colour=='red':\n",
    "    print(\"Congratulations player! You earned 15 points...\")\n",
    "else:\n",
    "    print(\"Congratulations player! You earned 10 points...\")\n",
    "Alien_colour='red'\n",
    "if Alien_colour == 'green':\n",
    "    print(\"Congratulations player! You earned 5 points...\")\n",
    "elif Alien_colour=='red':\n",
    "    print(\"Congratulations player! You earned 15 points...\")\n",
    "else:\n",
    "    print(\"Congratulations player! You earned 10 points...\")\n"
   ]
  },
  {
   "cell_type": "code",
   "execution_count": null,
   "id": "4576b25f-1bd9-4fe1-a566-9b14cd0e433e",
   "metadata": {},
   "outputs": [],
   "source": [
    "age=19\n",
    "if age<2:\n",
    "    print(\"You are a baby\")\n",
    "elif age>2 and age<4:\n",
    "    print(\"You are a toddler\")\n",
    "elif age>4 and age<13:\n",
    "     print(\"You are a kid\")\n",
    "elif age>13 and age<20:\n",
    "     print(\"You are a teenager\")\n",
    "elif age>20 and age<65:\n",
    "     print(\"You are a adult\")\n",
    "elif age>65:\n",
    "     print(\"You are a elder\")"
   ]
  },
  {
   "cell_type": "code",
   "execution_count": null,
   "id": "8e429c59-80a9-4250-b78e-865b0f8b38f7",
   "metadata": {},
   "outputs": [],
   "source": [
    "favourite_fruits=['Apple','Orange','Banana']\n",
    "if 'Banana' in favourite_fruits:\n",
    "    print(f'You do like this Banana')\n",
    "if 'Mango' in favourite_fruits:\n",
    "    print(f'You do like this Mango')\n",
    "if 'Orange' in favourite_fruits:\n",
    "    print(f'You do like this Orange')\n",
    "if 'Papaya' in favourite_fruits:\n",
    "    print(f'You do like this Papaya')\n",
    "if 'Apple' in favourite_fruits:\n",
    "    print(f'You do like this Apple')"
   ]
  },
  {
   "cell_type": "code",
   "execution_count": null,
   "id": "c948207e-ecc1-4afd-ba1b-8165fc57182c",
   "metadata": {},
   "outputs": [],
   "source": [
    "Users=['Admin','Manoj','Rohit','Surya','Mohan']\n",
    "for user in Users:\n",
    "    if user == 'Admin':\n",
    "        print('Hello Admin, Would you like to see the status report?')\n",
    "    else:\n",
    "        print(f\"Hello {user}, Thank you for logging in again!!\")\n",
    "\n",
    "if Users==[]:\n",
    "    print(\"WE need to find some users...\")"
   ]
  },
  {
   "cell_type": "code",
   "execution_count": null,
   "id": "37f8c849-3778-4299-8b1f-89538a05c9d4",
   "metadata": {},
   "outputs": [],
   "source": [
    "Users=[]\n",
    "for user in Users:\n",
    "    if user == 'Admin':\n",
    "        print('Hello Admin, Would you like to see the status report?')\n",
    "    else:\n",
    "        print(f\"Hello {user}, Thank you for logging in again!!\")\n",
    "\n",
    "if Users==[]:\n",
    "    print(\"WE need to find some users...\")"
   ]
  },
  {
   "cell_type": "code",
   "execution_count": null,
   "id": "6df814d1-22ef-45f8-ad50-8a64c5f03863",
   "metadata": {},
   "outputs": [],
   "source": [
    "current_users=['a12','b23','c34','d45','e56']\n",
    "current_users_lower = [user.lower() for user in current_users]\n",
    "new_users=['d45','e56','f67','g78','h89']\n",
    "for new_user in new_users:\n",
    "    if new_user in current_users and current_users_lower:\n",
    "        print(\"Sorry you have to enter a different Username...\")\n",
    "    else:\n",
    "        print(\"Username available!!!\")"
   ]
  },
  {
   "cell_type": "code",
   "execution_count": null,
   "id": "ff5a9428-52c5-4e3b-be80-e82906cb7158",
   "metadata": {},
   "outputs": [],
   "source": [
    "Ordinal_numbers=list(range(1,10))\n",
    "for Ordinal_number in Ordinal_numbers:\n",
    "    if Ordinal_number==1:\n",
    "        print('1st')\n",
    "    if Ordinal_number==2:\n",
    "        print('2nd')                           #Due to indentation error we didn't get the correct answer\n",
    "    if Ordinal_number==3:\n",
    "        print('3rd')\n",
    "else:\n",
    "     print(f'{Ordinal_number}th')"
   ]
  },
  {
   "cell_type": "code",
   "execution_count": null,
   "id": "6c000439-f27f-4637-ad9f-2df0aba3981a",
   "metadata": {},
   "outputs": [],
   "source": [
    "Ordinal_numbers=list(range(1,10))\n",
    "print(Ordinal_numbers)"
   ]
  },
  {
   "cell_type": "code",
   "execution_count": null,
   "id": "780f7921-9d98-4393-8a75-71f1b3a8d2cf",
   "metadata": {},
   "outputs": [],
   "source": [
    "Ordinal_numbers=list(range(1,10))\n",
    "for Ordinal_number in Ordinal_numbers:\n",
    "    if Ordinal_number==1:\n",
    "        print('1st')\n",
    "    elif Ordinal_number==2:\n",
    "        print('2nd')  \n",
    "    elif Ordinal_number==3:             #WE got the right answer here!!!\n",
    "        print('3rd')\n",
    "    else:                                          # Elif should be used to prevent the occurence of 1th\n",
    "        print(f'{Ordinal_number}th')"
   ]
  },
  {
   "cell_type": "code",
   "execution_count": null,
   "id": "c799ffeb-0cdc-47fa-a4b5-96c126aacc55",
   "metadata": {},
   "outputs": [],
   "source": [
    "favorite_languages = {\n",
    "'jen': 'python',\n",
    "'sarah': 'c',\n",
    "'edward': 'ruby',\n",
    "'phil': 'python',\n",
    "}\n",
    "language = favorite_languages['sarah'].title()\n",
    "print(f\"Sarah's favorite language is {language}.\")"
   ]
  },
  {
   "cell_type": "code",
   "execution_count": null,
   "id": "effaf719-5764-4eaf-aba7-d2cbf6c3503f",
   "metadata": {},
   "outputs": [],
   "source": [
    "alien_0 = {'color': 'green', 'speed': 'slow'}\n",
    "print(alien_0.get('points', 'No point value assigned.'))\n",
    "\n"
   ]
  },
  {
   "cell_type": "code",
   "execution_count": null,
   "id": "42a66d2b-4132-4c86-8a12-5a57cac4a064",
   "metadata": {},
   "outputs": [],
   "source": [
    "a=['c','g','j','a']\n",
    "a.sort()\n",
    "print(a)\n",
    "a.reverse()\n",
    "print(a)\n",
    "print(sorted(a))\n",
    "print(a)"
   ]
  },
  {
   "cell_type": "code",
   "execution_count": null,
   "id": "81959b7b-86d9-4cd9-af07-e39bda90fe1d",
   "metadata": {},
   "outputs": [],
   "source": [
    "#ex 6.1\n",
    "person={'first_name':'santhosh',\n",
    "        'last_name':'kumar',\n",
    "        'age':'20',\n",
    "        'city':'salem'}\n",
    "print(person['first_name'].title())\n",
    "print(person['last_name'].title())\n",
    "print(person['age'].title())\n",
    "print(person['city'].title())"
   ]
  },
  {
   "cell_type": "code",
   "execution_count": null,
   "id": "1fd2fad0-6412-4dcb-a9a2-b89c643ea5cb",
   "metadata": {},
   "outputs": [],
   "source": [
    "fav_num={'Amma':9,\n",
    "         'Appa':5,\n",
    "         'Ezio':4,\n",
    "         'Altair':10,\n",
    "         'Gerrard':2}\n",
    "print(f\"Amma's favourite number is {fav_num['Amma']}.\")\n",
    "print(f\"Appa's favourite number is {fav_num['Appa']}.\")\n",
    "print(f\"Ezio's favourite number is {fav_num['Ezio']}.\")\n",
    "print(f\"Altair's favourite number is {fav_num['Altair']}.\")\n",
    "print(f\"Gerrard's favourite number is {fav_num['Gerrard']}.\")"
   ]
  },
  {
   "cell_type": "code",
   "execution_count": null,
   "id": "19121337-6346-4266-8de6-3094055ca3b5",
   "metadata": {},
   "outputs": [],
   "source": [
    "glossary={'Altair':'Mentor',\n",
    "          'Ezio':'Charming',\n",
    "          'Connor':'Tank',\n",
    "          'Edward':'Pirate',\n",
    "          'Shay':'Templar'}\n",
    "print(f\"Altair : {glossary['Altair'].upper()}\\n\")\n",
    "print(f\"Ezio : {glossary['Ezio'].upper()}\\n\")\n",
    "print(f\"Connor : {glossary['Connor'].upper()}\\n\")\n",
    "print(f\"Edward : {glossary['Edward'].upper()}\\n\")\n",
    "print(f\"Shay : {glossary['Shay'].upper()}\\n\")"
   ]
  },
  {
   "cell_type": "code",
   "execution_count": null,
   "id": "587b2547-18a2-4180-8a08-cdab7675d7c3",
   "metadata": {},
   "outputs": [],
   "source": [
    "glossary={'Altair':'Mentor',\n",
    "          'Ezio':'Charming',\n",
    "          'Connor':'Tank',\n",
    "          'Edward':'Pirate',\n",
    "          'Shay':'Templar'}\n",
    "for name, meaning in glossary.items():\n",
    "    print(f\"{name.upper()}:\\n\\t{meaning}\")\n",
    "\n",
    "print(\"Va Bene!!!\")\n",
    "   "
   ]
  },
  {
   "cell_type": "code",
   "execution_count": null,
   "id": "a163f4fe-7268-43b3-a36a-cfad1ac79990",
   "metadata": {},
   "outputs": [],
   "source": [
    "relations={'Uncle':'Mario',\n",
    "           'Thief':'La Volpe',\n",
    "           'Friend':'Da Vinci'}\n",
    "for relation,name in relations.items():\n",
    "    print(f\"{name.upper()} is Ezio's {relation}\")\n",
    "    print(relation)\n",
    "    \n",
    "    print(name)"
   ]
  },
  {
   "cell_type": "code",
   "execution_count": null,
   "id": "50928014-f5c9-4329-b3ef-b44fb6cfd7f3",
   "metadata": {},
   "outputs": [],
   "source": [
    "favourite_languages = {\n",
    "    'jen': 'python',\n",
    "    'sarah': 'c',\n",
    "    'edward': 'ruby',\n",
    "    'phil': 'python'}\n",
    "poll=['jen','phil','beck','ruby']\n",
    "for people in poll:\n",
    "    if people in favourite_languages.keys():\n",
    "        print(f\"Thank you for taking the poll,{people.upper()}\")\n",
    "    else:\n",
    "        print(f\"Please participate in the poll,{people.upper()}\")\n"
   ]
  },
  {
   "cell_type": "code",
   "execution_count": null,
   "id": "6a4122f5-8248-4b1c-bbc4-52dd75ad34c4",
   "metadata": {},
   "outputs": [],
   "source": [
    "# Make an empty list for storing aliens.\n",
    "aliens = []\n",
    "# Make 30 green aliens.\n",
    "for alien_number in range (30):\n",
    "    alien_number = {'color': 'green', 'points': 5, 'speed': 'slow'}\n",
    "    aliens.append(alien_number)\n",
    "for alien in aliens[:3]:\n",
    "    alien['color'] = 'yellow'\n",
    "    alien['speed'] = 'medium'\n",
    "    alien['points'] = 10\n",
    "# Show the first 5 aliens.\n",
    "for alien in aliens[:5]:\n",
    "    print(alien)\n",
    "print(\"...\")"
   ]
  },
  {
   "cell_type": "code",
   "execution_count": null,
   "id": "4e908aba-5d55-4278-b35c-ebcd09d8f8d1",
   "metadata": {},
   "outputs": [],
   "source": [
    "#ex6.7\n",
    "person1={'first_name':'santhosh',\n",
    "        'last_name':'kumar',\n",
    "        'age':'20',\n",
    "        'city':'salem'}\n",
    "person2={'first_name':'ezio',\n",
    "        'last_name':'auditore',\n",
    "        'age':'41',\n",
    "        'city':'florence'}\n",
    "person3={'first_name':'edward',\n",
    "        'last_name':'kenway',\n",
    "        'age':'28',\n",
    "        'city':'havana'}\n",
    "people=[person1,person2,person3]\n",
    "for person in people:\n",
    "    print(f\"Name : {person['first_name'].upper()} {person['last_name'].upper()}\")\n",
    "    print(f\"Age : {person['age']}\")\n",
    "    print(f\"City : {person['city'].title()}\\n\")"
   ]
  },
  {
   "cell_type": "code",
   "execution_count": null,
   "id": "dd63329d-6e14-4e6d-9278-4307a7c02c65",
   "metadata": {},
   "outputs": [],
   "source": [
    "pet1={'kind':'cat','owner':'naveen'}\n",
    "pet2={'kind':'dog','owner':'mohan'}\n",
    "pet3={'kind':'fish','owner':'gugan'}\n",
    "pets=[pet1,pet2,pet3]\n",
    "for pet in pets:\n",
    "    for kind,owner in pet.items():\n",
    "        print(f\"{kind.title()} :\\n {owner.title()}\\n\")"
   ]
  },
  {
   "cell_type": "code",
   "execution_count": null,
   "id": "f5b96c2a-78a1-4bba-9bb1-12562ea74e68",
   "metadata": {},
   "outputs": [],
   "source": [
    "pet1={'kind':'cat','owner':'naveen'}\n",
    "pet2={'kind':'dog','owner':'mohan'}\n",
    "pet3={'kind':'fish','owner':'gugan'}\n",
    "pets=[pet1,pet2,pet3]\n",
    "for pet in pets:\n",
    "    for kind in pet.keys():\n",
    "        print(f\"{kind.title()}:\")"
   ]
  },
  {
   "cell_type": "code",
   "execution_count": null,
   "id": "b977b735-f9e8-479e-9b9d-1ab8c22dbcbc",
   "metadata": {},
   "outputs": [],
   "source": [
    "fp={'venice':'ezio',\n",
    "     'masyaf':'altair',\n",
    "     'france':'arno'}\n",
    "for k,v in fp.items():\n",
    "    print(f\"{k.title()} is the favourite place of {v.title()}\")"
   ]
  },
  {
   "cell_type": "code",
   "execution_count": null,
   "id": "001feb09-ee6c-49ac-b778-2330b9d303c2",
   "metadata": {},
   "outputs": [],
   "source": [
    "favourite_places = {'ezio': ['venice', 'rome', 'florence'],\n",
    "                   'altair': ['masyaf', 'jerusalem'],\n",
    "                   'arno': ['paris', 'versailles']}\n",
    "for k,v in favourite_places.items():\n",
    "      print(f\"{k.title()}'s favourite places are :\")\n",
    "      for place in v:\n",
    "        print(f\"\\n\\t{place.title()}\")\n",
    "    \n"
   ]
  },
  {
   "cell_type": "code",
   "execution_count": null,
   "id": "0d538bbc-80e1-485b-ba24-d9a5a8a2d6dc",
   "metadata": {},
   "outputs": [],
   "source": [
    "fav_num={'Amma':[9,6,1],\n",
    "         'Appa':[5,11,33],\n",
    "         'Ezio':[4,25,23],\n",
    "         'Altair':[10,51,22],\n",
    "         'Gerrard':[2,76,12]}                      #Wrong you idiot           \n",
    "for name,num in fav_num.items():\n",
    "    print(f\"{name}'s favourite number:\")\n",
    "for num in fav_num:\n",
    "    print(f\"{num}\")"
   ]
  },
  {
   "cell_type": "code",
   "execution_count": null,
   "id": "1b88d8fa-8ede-4214-9636-152a0d79792c",
   "metadata": {},
   "outputs": [],
   "source": [
    "fav_num={'Amma':[9,6,1],\n",
    "         'Appa':[5,11,33],\n",
    "         'Ezio':[4,25,23],\n",
    "         'Altair':[10,51,22],\n",
    "         'Gerrard':[2,76,12]}                                \n",
    "for name,num in fav_num.items():\n",
    "    print(f\"{name}'s favourite number:\\n{num}\")\n",
    "  "
   ]
  },
  {
   "cell_type": "code",
   "execution_count": null,
   "id": "4419d900-f31a-4a5e-b3aa-c7feabcab182",
   "metadata": {},
   "outputs": [],
   "source": [
    "cities={'salem':{'state':'tamilnadu','famous':'mango','temp':30},\n",
    "        'darjeeling':{'state':'westbengal','famous':'roll','temp':12},\n",
    "        'banglore':{'state':'karnataka','famous':'tech','temp':23}}\n",
    "for name,info in cities.items():\n",
    "    print(f\"{name.title()}:\")\n",
    "    for k,v in info.items():\n",
    "        print(f\"\\n\\t-Is is located in {v['state'].title()}.\\n\\t-It is famous for {v['famous'].title()}.\\n\\t-Average temperature there is {v['temperature']} Celcius.\")\n",
    "        "
   ]
  },
  {
   "cell_type": "code",
   "execution_count": null,
   "id": "33dbb474-a2ae-4be7-aa5b-c76bfe4487df",
   "metadata": {},
   "outputs": [],
   "source": [
    "cities={'salem':{'state':'tamilnadu','famous':'mango','temp':30},\n",
    "        'darjeeling':{'state':'westbengal','famous':'roll','temp':12},\n",
    "        'banglore':{'state':'karnataka','famous':'tech','temp':23}}\n",
    "for name,info in cities.items():\n",
    "    print(f\"{name.title()}:\")\n",
    "    print(f\"\\n\\t-Is is located in {info['state'].title()}.\\n\\t-It is famous for {info['famous'].title()}.\\n\\t-Average temperature there is {info['temp']} Celcius.\")\n",
    "        "
   ]
  },
  {
   "cell_type": "code",
   "execution_count": null,
   "id": "2bdea7c7-4749-4aba-928f-8f972aadb94e",
   "metadata": {},
   "outputs": [],
   "source": [
    "#ex 6.7\n",
    "person1={'first_name':'santhosh',\n",
    "        'last_name':'kumar',\n",
    "        'age':20,\n",
    "        'city':'salem'}\n",
    "person2={'first_name':'lamine',\n",
    "         'last_name':'yamal',\n",
    "         'age':17,\n",
    "         'city':'barcelona'}\n",
    "person3={'first_name':'pedri',\n",
    "         'last_name':'gonzales',\n",
    "         'age':21,\n",
    "         'city':'barcelona'}\n",
    "people=[person1,person2,person3]\n",
    "for person in people:\n",
    "    print(f\"{person['first_name'].title()}:\")\n",
    "    print(f\"-Hola I'm {person['first_name'].title()} {person['last_name'].title()}.\\n-I'm {person['age']} years old and I'm from {person['city'].title()}\\n\")"
   ]
  },
  {
   "cell_type": "code",
   "execution_count": null,
   "id": "8febdbb0-2171-41b7-a5ea-5bff8a4e5849",
   "metadata": {},
   "outputs": [],
   "source": [
    "#ex 6.8\n",
    "pet1={'kind':'dog',\n",
    "      'owner':'raphinha'}\n",
    "pet2={'kind':'snake',\n",
    "      'owner':'figo'}\n",
    "pet3={'kind':'cow',\n",
    "      'owner':'olmo'}\n",
    "pets=[pet1,pet2,pet3]\n",
    "for pet in pets:\n",
    "    print(f\"{pet['owner'].title()}:\\t\")\n",
    "    print(f\"I'm {pet['owner'].title()}, and I own a {pet['kind'].title()}\\n\")"
   ]
  },
  {
   "cell_type": "code",
   "execution_count": null,
   "id": "92fc499f-50fd-4504-b185-c67a4f80a2f1",
   "metadata": {},
   "outputs": [],
   "source": [
    "#ex 6.9\n",
    "favourite_places={'bisky':['texas','LA','orlando'],\n",
    "                  'jenifer':['madrid','sevilla','valencia'],\n",
    "                  'higuain':['forli','tuscany','venezia']}\n",
    "for person,places in favourite_places.items():\n",
    "    print(f\"HI!! I'm {person.title()}. My favourite places are\\t\")\n",
    "    for place in places:\n",
    "        print(f\"-{place.title()}\")\n",
    "\n"
   ]
  },
  {
   "cell_type": "code",
   "execution_count": null,
   "id": "93a6ed47-fc81-4c76-b9c2-7277bd62cbff",
   "metadata": {},
   "outputs": [],
   "source": [
    "#ex 6.10\n",
    "fns={'edward':[3,2,4,5],\n",
    "     'connor':[3,7,8,0],\n",
    "     'haytham':[7,5,9,2]}\n",
    "for name,fnos in fns.items():\n",
    "    print(f\"{name.title()}'s favourite numbers are\")\n",
    "    for fn in fnos:\n",
    "        print(f\"\\t-{fn}\")"
   ]
  },
  {
   "cell_type": "code",
   "execution_count": null,
   "id": "fa9bdca8-0d16-46ca-8798-503d3321f4d9",
   "metadata": {},
   "outputs": [],
   "source": [
    "#ex 6.11\n",
    "players={'player1':{'name':'lamine',\n",
    "                    'age':17,\n",
    "                    'status':'world class'},\n",
    "         'player2':{'name':'raphinha',\n",
    "                    'age':28,\n",
    "                    'status':'balon dor'},\n",
    "         'player3':{'name':'lewa',\n",
    "                    'age':37,\n",
    "                    'status':'goal machine'}}\n",
    "for player,info in players.items():\n",
    "    print(f\"{player.title()}:\")\n",
    "    for k,v in info.items():\n",
    "        print(f\"\\t-{k.title()}:{v}\")"
   ]
  },
  {
   "cell_type": "code",
   "execution_count": null,
   "id": "604b141e-3c85-4df7-a61c-c024147527f7",
   "metadata": {},
   "outputs": [],
   "source": [
    "a=int(input(\"Enter a number:\"))\n",
    "b=a**2\n",
    "print(f\"Square of {a} is {b}\")"
   ]
  },
  {
   "cell_type": "code",
   "execution_count": null,
   "id": "ca91600c-db62-4e70-9e99-b1fe23ea64dc",
   "metadata": {},
   "outputs": [],
   "source": [
    "height = input(\"How tall are you, in inches? \")\n",
    "height = int(height)\n",
    "if height >= 48:\n",
    "    print(\"\\nYou're tall enough to ride!\")\n",
    "else:\n",
    "    print(\"\\nYou'll be able to ride when you're a little older.\")"
   ]
  },
  {
   "cell_type": "code",
   "execution_count": null,
   "id": "ded5c486-f12a-409d-ad25-89789f325803",
   "metadata": {},
   "outputs": [],
   "source": [
    "height = int(input(\"How tall are you, in inches? \"))\n",
    "if height >= 48:\n",
    "    print(\"\\nYou're tall enough to ride!\")\n",
    "else:\n",
    "    print(\"\\nYou'll be able to ride when you're a little older.\")"
   ]
  },
  {
   "cell_type": "code",
   "execution_count": null,
   "id": "6d2cfcd9-4958-402e-a2a5-726dd41788a7",
   "metadata": {},
   "outputs": [],
   "source": [
    "#ex 7.1\n",
    "fav_car=input(\"Enter your favourite car:\")\n",
    "print(f\"Let me see if I can find a {fav_car.title()}\")"
   ]
  },
  {
   "cell_type": "code",
   "execution_count": null,
   "id": "a99291cf-b86a-46cd-ab15-efdc2465feb7",
   "metadata": {},
   "outputs": [],
   "source": [
    "#ex 7.1\n",
    "fav_car=input(\"Enter your favourite car:\")\n",
    "print(f\"Let me see if I can find a {fav_car.title()}\")"
   ]
  },
  {
   "cell_type": "code",
   "execution_count": null,
   "id": "01875522-b70c-45ba-b5e9-5bc41887254c",
   "metadata": {},
   "outputs": [],
   "source": [
    "print(\"hello\")"
   ]
  },
  {
   "cell_type": "code",
   "execution_count": null,
   "id": "212766d4-29e6-44df-af52-42eaabdb2897",
   "metadata": {},
   "outputs": [],
   "source": [
    "#ex 7.2\n",
    "people=int(input(\"Enter the number of people in your family:\"))\n",
    "if people>8:\n",
    "    print(\"Sorry you have to wait for sometime to have your Dinner...\")\n",
    "elif people<=8:\n",
    "    print(\"You can enjoy your dinner right now!!!\")"
   ]
  },
  {
   "cell_type": "code",
   "execution_count": null,
   "id": "82720c6c-03dc-4035-8135-421a5f2dd96c",
   "metadata": {},
   "outputs": [],
   "source": [
    "#ex 7.3\n",
    "no=int(input(\"Enter a number\"))\n",
    "if no % 10 == 0:\n",
    "    print(f\"{no} is divisible by 10\")\n",
    "else:\n",
    "    print(f\"{no} is not divisible by 10\")\n",
    " "
   ]
  },
  {
   "cell_type": "code",
   "execution_count": null,
   "id": "a8893350-de86-410d-b72a-96688df7b956",
   "metadata": {},
   "outputs": [],
   "source": [
    "current_number = 1\n",
    "while current_number <= 5:\n",
    "    current_number += 1\n",
    "    print(current_number)\n"
   ]
  },
  {
   "cell_type": "code",
   "execution_count": null,
   "id": "101cd24e-3066-4585-bd94-9baead2df28c",
   "metadata": {},
   "outputs": [],
   "source": [
    "current_number = 1\n",
    "while current_number <= 5:\n",
    "    print(current_number)\n",
    "    current_number += 1"
   ]
  },
  {
   "cell_type": "code",
   "execution_count": null,
   "id": "49626eb4-6427-4605-acb5-f1244c88bd41",
   "metadata": {},
   "outputs": [],
   "source": [
    "prompt = \"\\nTell me something, and I will repeat it back to you:\"\n",
    "prompt += \"\\nEnter 'quit' to end the program. \"\n",
    "message = \"\"\n",
    "while message != 'quit':\n",
    "    message = input(prompt)\n",
    "if message != 'quit':\n",
    "    print(message)"
   ]
  },
  {
   "cell_type": "code",
   "execution_count": null,
   "id": "5ee23066-84fa-4b0a-8816-b7e5e5d92f9d",
   "metadata": {},
   "outputs": [],
   "source": [
    "n=\"\"\n",
    "print(n)"
   ]
  },
  {
   "cell_type": "code",
   "execution_count": null,
   "id": "b9d842f7-afa1-4b4c-8e4b-3f5d3690de58",
   "metadata": {},
   "outputs": [],
   "source": [
    "prompt = \"\\nPlease enter the name of a city you have visited:\"\n",
    "prompt += \"\\n(Enter 'quit' when you are finished.) \"\n",
    "while True:\n",
    "    city = input(prompt)\n",
    "    if city == 'quit':\n",
    "\n",
    "        break\n",
    "    else:\n",
    "        print(f\"I'd love to go to {city.title()}!\")"
   ]
  },
  {
   "cell_type": "code",
   "execution_count": null,
   "id": "f41bcc6c-a6eb-40c6-8bb7-a2303dcc8150",
   "metadata": {},
   "outputs": [],
   "source": [
    "x = 1\n",
    "while x <= 5:\n",
    "    print(x)\n",
    "    x += 1"
   ]
  },
  {
   "cell_type": "code",
   "execution_count": null,
   "id": "4c15c70a-03ab-4c2c-8703-c29256dee937",
   "metadata": {},
   "outputs": [],
   "source": [
    "x = 1\n",
    "while x <= 5:\n",
    "    x += 1                            #I understand it now\n",
    "    print(x)\n",
    "    "
   ]
  },
  {
   "cell_type": "code",
   "execution_count": null,
   "id": "1a820d3f-de2e-4b9a-a37d-9d223dd9ead5",
   "metadata": {},
   "outputs": [],
   "source": [
    "#ex 7.4\n",
    "prompt=\"Enter your desired pizza topping:\"\n",
    "prompt+=\"(Type 'quit' if you wanna stop)\"\n",
    "while True:\n",
    "    msg=input(prompt)\n",
    "    if msg=='quit':\n",
    "        break\n",
    "    else:\n",
    "        print(f\"{msg.title()} added!!!\")\n",
    "print(\"\\nThank you for choosing your toppings!!!\")\n",
    "print(\"You'll get your order within 10 minutes\")"
   ]
  },
  {
   "cell_type": "code",
   "execution_count": null,
   "id": "9d8456ba-3b4c-4ac4-b196-319d2580c4d3",
   "metadata": {},
   "outputs": [],
   "source": [
    "prompt=\"Enter you age:\"\n",
    "while True:\n",
    "    age=int(input(prompt))\n",
    "    if age<=3:\n",
    "        print(\"Your ticket is free\")\n",
    "    elif age>3 and age<=12:\n",
    "        print(\"Your ticket price is 12$\")\n",
    "    else:\n",
    "        print(\"Your ticket price is 15$\")\n",
    "        break\n",
    "        \n",
    "    "
   ]
  },
  {
   "cell_type": "code",
   "execution_count": null,
   "id": "ae40f4d7-8467-4c7b-a15d-d8f3893a056b",
   "metadata": {},
   "outputs": [],
   "source": [
    "prompt=\"Enter you age:(or enter '0' to quit)\"\n",
    "while True:\n",
    "    age=int(input(prompt))\n",
    "    if age>0 and age<=3:\n",
    "        print(\"Your ticket is free\")\n",
    "    elif age>3 and age<=12:\n",
    "        print(\"Your ticket price is 10$\")\n",
    "    elif age>12:\n",
    "        print(\"Your ticket price is 15$\")\n",
    "    elif age==0:\n",
    "        break\n",
    "        "
   ]
  },
  {
   "cell_type": "code",
   "execution_count": null,
   "id": "e19f4d36-1a6d-4b60-a3d5-4587e2b67120",
   "metadata": {},
   "outputs": [],
   "source": [
    "#ex7.5\n",
    "age=int(input(\"Enter you age:\\n\"))\n",
    "if age<=3:\n",
    "    print(\"Your ticket is free\")\n",
    "elif age>3 and age<=12:\n",
    "    print(\"Your ticket price is 12$\")\n",
    "else:\n",
    "    print(\"Your ticket price is 15$\")"
   ]
  },
  {
   "cell_type": "code",
   "execution_count": null,
   "id": "73907bf1-6210-4ee7-a759-ee2c7f7f2bf4",
   "metadata": {},
   "outputs": [],
   "source": [
    "while True:\n",
    "    age_input = input(\"Enter your age (or type 'quit' to exit):\\n\")\n",
    "    if age_input.lower() == 'quit':\n",
    "        break\n",
    "    \n",
    "    age = int(age_input)\n",
    "\n",
    "    if age < 3:\n",
    "        print(\"Your ticket is free 🍿\")\n",
    "    elif age <= 12:\n",
    "        print(\"Your ticket price is $10 🎟️\")\n",
    "    else:\n",
    "        print(\"Your ticket price is $15 🎬\")\n"
   ]
  },
  {
   "cell_type": "code",
   "execution_count": null,
   "id": "8bf6bf04-ba83-4682-a96b-e75de5ae3f88",
   "metadata": {},
   "outputs": [],
   "source": [
    "prompt=\"Enter you age:(or enter '0' to quit)\"\n",
    "while True:\n",
    "    age=int(input(prompt))\n",
    "    if age>0 and age<=3:\n",
    "        print(\"Your ticket is free\")\n",
    "    elif age>3 and age<=12:\n",
    "        print(\"Your ticket price is 10$\")\n",
    "    elif age>12:\n",
    "        print(\"Your ticket price is 15$\")\n",
    "    elif age==0:\n",
    "        break"
   ]
  },
  {
   "cell_type": "code",
   "execution_count": null,
   "id": "9087bade-ea0d-499b-9eb3-e6db915700ce",
   "metadata": {},
   "outputs": [],
   "source": [
    "squares=[]\n",
    "for i in range(1,11):\n",
    "    square=i**2\n",
    "    squares.append(square)\n",
    "for s in squares:\n",
    "    print(s)\n",
    "    "
   ]
  },
  {
   "cell_type": "code",
   "execution_count": null,
   "id": "e989b81d-0815-482a-a51e-3430e8204cf3",
   "metadata": {},
   "outputs": [],
   "source": [
    "s=[i**2 for i in range(1,11)]\n",
    "for m in s:\n",
    "    print(m)"
   ]
  },
  {
   "cell_type": "code",
   "execution_count": null,
   "id": "1d4f7198-8c9c-4343-97a5-087feeaebcea",
   "metadata": {},
   "outputs": [],
   "source": [
    "responses={}\n",
    "while True:\n",
    "    name=input(\"\\nWhat is you name? \")\n",
    "    response=input(\"Ehich mountain did you climb today?\")\n",
    "    responses[name]=response\n",
    "    repeat=input(\"Would you like to let another person respond? (yes/no)\")\n",
    "    if repeat.lower() == 'no':\n",
    "        break\n",
    "\n",
    "print(\"\\n----Poll Results----\")\n",
    "for name,response in responses.items():\n",
    "    print(f\"{name} would you like to climb {response}.\")\n",
    "    "
   ]
  },
  {
   "cell_type": "code",
   "execution_count": null,
   "id": "237d71fc-1295-49bc-80b9-bce753120ed7",
   "metadata": {},
   "outputs": [],
   "source": [
    "pets = ['dog', 'cat', 'dog', 'goldfish', 'cat', 'rabbit', 'cat']\n",
    "print(pets)\n",
    "while 'cat' in pets:\n",
    "    pets.remove('cat')\n",
    "print(pets)"
   ]
  },
  {
   "cell_type": "code",
   "execution_count": null,
   "id": "890aa0c0-1698-4c78-a74d-74aa5f9e5461",
   "metadata": {},
   "outputs": [],
   "source": [
    "pets = ['dog', 'cat', 'dog', 'goldfish', 'cat', 'rabbit', 'cat']\n",
    "print(pets)\n",
    "for 'cat' in pets:\n",
    "    pets.remove('cat')\n",
    "print(pets)"
   ]
  },
  {
   "cell_type": "code",
   "execution_count": null,
   "id": "95c92287-d86e-4eeb-afba-aa1f908d8edc",
   "metadata": {},
   "outputs": [],
   "source": [
    "#ex 7.8\n",
    "food_orders=['idli','dosa','vada','pongal']\n",
    "finished_foods=[]\n",
    "while True:\n",
    "    current_food=food_orders.pop()\n",
    "    print(f\"I made your {current_food.title()}.\") \n",
    "    finished_foods.append(current_food)\n",
    "    if not food_orders:\n",
    "        break\n",
    "print(\"Foods those have been made sucessfully are listed below:\")\n",
    "for ff in finished_foods:\n",
    "    print(f\"-\\t{ff.title()}\")"
   ]
  },
  {
   "cell_type": "code",
   "execution_count": null,
   "id": "230b4930-fbd4-41a6-af53-9400f32a4b79",
   "metadata": {},
   "outputs": [],
   "source": [
    "#ex 7.8\n",
    "food_orders=['idli','dosa','vada','pongal','idli','idli']\n",
    "print(\"The shop has ran out of Idlis\")\n",
    "while 'idli' in food_orders:\n",
    "    food_orders.remove('idli')\n",
    "print(\"The food that remains are:\")\n",
    "for ff in food_orders:\n",
    "    print(f\"-\\t{ff.title()}\")\n"
   ]
  },
  {
   "cell_type": "code",
   "execution_count": null,
   "id": "70e47a78-50b4-45d0-8530-286025d73313",
   "metadata": {},
   "outputs": [],
   "source": [
    "responses={}\n",
    "while True:\n",
    "    name=input(\"Enter your name:\")\n",
    "    place=input(\"If you could visit one place which place would it be???\")\n",
    "    responses[name]=place\n",
    "    repeat=input(\"Are you the last person to poll?? (Yes \\ No)\")\n",
    "    if repeat.title()=='Yes':\n",
    "        break\n",
    "print(\"Thank you everyone for taking the poll\")\n",
    "print(\"The people who took place in the poll are:\")\n",
    "for k,v in responses.items():\n",
    "    print(f\"\\t-{k.title()}\")\n",
    "    \n",
    "        "
   ]
  },
  {
   "cell_type": "code",
   "execution_count": 8,
   "id": "bce093b4-a886-4e33-a490-146b0be8adb3",
   "metadata": {},
   "outputs": [
    {
     "name": "stderr",
     "output_type": "stream",
     "text": [
      "<>:7: SyntaxWarning: invalid escape sequence '\\ '\n",
      "<>:7: SyntaxWarning: invalid escape sequence '\\ '\n",
      "C:\\Users\\LAKSHIN\\AppData\\Local\\Temp\\ipykernel_21316\\1557625331.py:7: SyntaxWarning: invalid escape sequence '\\ '\n",
      "  repeat=input(\"Are you the last person to poll?? (Yes \\ No)\")\n"
     ]
    },
    {
     "name": "stdin",
     "output_type": "stream",
     "text": [
      "Enter your name: lak\n",
      "If you could visit one place which place would it be??? everest\n",
      "Are you the last person to poll?? (Yes \\ No) no\n",
      "Enter your name: kumar\n",
      "If you could visit one place which place would it be??? banglore\n",
      "Are you the last person to poll?? (Yes \\ No) yes\n"
     ]
    },
    {
     "name": "stdout",
     "output_type": "stream",
     "text": [
      "Thank you everyone for taking the poll\n",
      "The people who took place in the poll are:\n",
      "\t-Lak\n",
      "\t-Kumar\n"
     ]
    }
   ],
   "source": [
    "#ex 7.10\n",
    "responses={}\n",
    "while True:\n",
    "    name=input(\"Enter your name:\")\n",
    "    place=input(\"If you could visit one place which place would it be???\")\n",
    "    responses[name]=place\n",
    "    repeat=input(\"Are you the last person to poll?? (Yes \\ No)\")\n",
    "    if repeat.title()=='Yes':\n",
    "        break\n",
    "print(\"Thank you everyone for taking the poll\")\n",
    "print(\"The people who took place in the poll are:\")\n",
    "for k,v in responses.items():\n",
    "    print(f\"\\t-{k.title()}\")\n",
    "    "
   ]
  },
  {
   "cell_type": "code",
   "execution_count": null,
   "id": "1c680a64-da25-4658-8463-1f15c4ffb11c",
   "metadata": {},
   "outputs": [],
   "source": [
    "#ex 8.1\n",
    "def display_message():\n",
    "    print(\"Hey everyone!! We are learning functions in this chapter.\")\n",
    "display_message()"
   ]
  },
  {
   "cell_type": "code",
   "execution_count": null,
   "id": "ff114f6f-bbb4-4be6-965e-c5580bff0def",
   "metadata": {},
   "outputs": [],
   "source": [
    "#ex 8.2\n",
    "def favourite_book(title):\n",
    "    print(f\"{title.title()} is one of my favourite books.\")\n",
    "favourite_book('da vinci code')"
   ]
  },
  {
   "cell_type": "code",
   "execution_count": null,
   "id": "d1e6d841-3ff3-4937-8bf0-69daa15e8e4b",
   "metadata": {},
   "outputs": [],
   "source": [
    "#ex 8.3\n",
    "def make_shirts(size,sentence):\n",
    "    print(f\"Your shirt size is {size.upper()}.\")\n",
    "    print(f\"You want '{sentence.title()}' to be printed in your shirt.\")\n",
    "make_shirts('l','visca barca')\n",
    "make_shirts(sentence='visca barca',size='s')"
   ]
  },
  {
   "cell_type": "code",
   "execution_count": null,
   "id": "4c2e1b91-bc1c-425a-9def-1ff2848f2a62",
   "metadata": {},
   "outputs": [],
   "source": [
    "#ex 8.4\n",
    "def make_shirts(size='l',sentence='i love python'):\n",
    "    print(f\"Your shirt size is {size.upper()}.\")\n",
    "    print(f\"You want '{sentence.title()}' to be printed in your shirt.\")\n",
    "make_shirts()"
   ]
  },
  {
   "cell_type": "code",
   "execution_count": null,
   "id": "4f8e3dee-b503-40a4-abce-d925a4b47ab2",
   "metadata": {},
   "outputs": [],
   "source": [
    "#ex 8.4\n",
    "def make_shirts(size,sentence='i love python'):\n",
    "    print(f\"Your shirt size is {size.upper()}.\")\n",
    "    print(f\"You want '{sentence.title()}' to be printed in your shirt.\")\n",
    "make_shirts('l')\n",
    "make_shirts(size='m')"
   ]
  },
  {
   "cell_type": "code",
   "execution_count": null,
   "id": "89816c8b-8126-4017-9dd6-02f395a12881",
   "metadata": {},
   "outputs": [],
   "source": [
    "#ex 8.5\n",
    "def describe_city(city,country='india'):\n",
    "    print(f\"{city.title()} is in {country.title()}.\")\n",
    "describe_city('chennai')\n",
    "describe_city('texas','US')\n",
    "describe_city('rome','italy')\n",
    "\n",
    "    \n",
    "    "
   ]
  },
  {
   "cell_type": "code",
   "execution_count": null,
   "id": "8e3a0d4b-fe90-4726-9525-97efc7e6b1ae",
   "metadata": {},
   "outputs": [],
   "source": [
    "def get_formatted_name(first_name, last_name):\n",
    "    \"\"\"Return a full name, neatly formatted.\"\"\"\n",
    "    full_name = f\"{first_name} {last_name}\"\n",
    "    return full_name.title()\n",
    "get_formatted_name('lee','kang')\n"
   ]
  },
  {
   "cell_type": "code",
   "execution_count": null,
   "id": "ad9a2fe4-bc9e-48f5-bc3a-4dc637c12e0a",
   "metadata": {},
   "outputs": [],
   "source": [
    "def get_formatted_name(first_name, last_name):\n",
    "    \"\"\"Return a full name, neatly formatted.\"\"\"\n",
    "    full_name = f\"{first_name} {last_name}\"\n",
    "    return full_name.title()\n",
    "musician = get_formatted_name('lee', 'kang')\n",
    "print(musician)"
   ]
  },
  {
   "cell_type": "code",
   "execution_count": null,
   "id": "88f79ad2-3867-4f5d-a269-c689d93a44a1",
   "metadata": {},
   "outputs": [],
   "source": [
    "def get_formatted_name(first_name, last_name, middle_name=None):\n",
    "    \"\"\"Return a full name, neatly formatted.\"\"\"\n",
    "    if middle_name:\n",
    "        full_name = f\"{first_name} {middle_name} {last_name}\"\n",
    "    else:\n",
    "        full_name = f\"{first_name} {last_name}\"\n",
    "    return full_name.title()\n",
    "musician = get_formatted_name('jimi', 'hendrix')\n",
    "print(musician)\n",
    "musician = get_formatted_name('john', 'hooker', 'lee')\n",
    "print(musician)"
   ]
  },
  {
   "cell_type": "code",
   "execution_count": null,
   "id": "9387d964-fb0e-4ce2-a0a4-e4c3c9beeaea",
   "metadata": {},
   "outputs": [],
   "source": [
    "while True:\n",
    "    command = input(\"Say something: \")\n",
    "    if command == \"exit\":\n",
    "        print(\"Peace out Ezio 🕊️\")\n",
    "        break\n",
    "    print(\"You said:\", command)\n"
   ]
  },
  {
   "cell_type": "code",
   "execution_count": null,
   "id": "3a70d555-fe72-4e17-ab9e-3075cd379c3b",
   "metadata": {},
   "outputs": [],
   "source": [
    "def get_formatted_name(first_name, last_name):\n",
    "    \"\"\"Return a full name, neatly formatted.\"\"\"\n",
    "    full_name = f\"{first_name} {last_name}\"\n",
    "    return full_name.title()\n",
    "\n",
    "while True:\n",
    "    print(\"\\nPlease tell me your name:\")\n",
    "    print(\"(enter 'q' at any time to quit)\")\n",
    "\n",
    "    f_name = input(\"First name: \")\n",
    "    if f_name == 'q':\n",
    "        break\n",
    "\n",
    "    l_name = input(\"Last name: \")\n",
    "    if l_name == 'q':\n",
    "        break\n",
    "\n",
    "    formatted_name = get_formatted_name(f_name, l_name)\n",
    "    print(f\"\\nHello, {formatted_name}!\")\n"
   ]
  },
  {
   "cell_type": "code",
   "execution_count": null,
   "id": "7d676521-6124-44de-b903-ad7fc75e2b4b",
   "metadata": {},
   "outputs": [],
   "source": [
    "# This is a function.\n",
    "def greet(name, age):\n",
    "    print(f\"Yo {name}, you're {age} years young!\")\n",
    "\n",
    "# This is how you get user input.\n",
    "name_input = input(\"Name: \")\n",
    "age_input = input(\"Age: \")\n",
    "\n",
    "# This is how you use the input to call the function.\n",
    "greet(name_input, age_input)\n"
   ]
  },
  {
   "cell_type": "code",
   "execution_count": null,
   "id": "cefd16ff-4314-497e-98c8-bf0b002f71c2",
   "metadata": {},
   "outputs": [],
   "source": [
    "greet()\n"
   ]
  },
  {
   "cell_type": "code",
   "execution_count": null,
   "id": "6efeab8b-1d1f-4ee8-b2fa-3291d3add717",
   "metadata": {},
   "outputs": [],
   "source": [
    "greet('asda','sad')"
   ]
  },
  {
   "cell_type": "code",
   "execution_count": null,
   "id": "4b771dbc-bc6b-4eb3-aa7a-314564cb1659",
   "metadata": {},
   "outputs": [],
   "source": [
    "greet(name_input,age_input)"
   ]
  },
  {
   "cell_type": "code",
   "execution_count": null,
   "id": "dbfa4c41-ccd1-4be5-b974-9e8567ae2daf",
   "metadata": {},
   "outputs": [],
   "source": [
    "#ex 8.6\n",
    "def city_country(city,country):\n",
    "    q=f\"{city.title()}, {country.title()}\"\n",
    "    return q\n",
    "print(city_country('salem','tamil nadu'))\n",
    "print(city_country('pune','maharastra'))\n",
    "print(city_country('kokata','west bengal'))"
   ]
  },
  {
   "cell_type": "code",
   "execution_count": null,
   "id": "99457334-b1c7-4977-8b30-853e5ac438c8",
   "metadata": {},
   "outputs": [],
   "source": [
    "#ex 8.7\n",
    "def make_album(name,title,no=None):\n",
    "    album={'al_name':name,'al_title':title}\n",
    "    if no:\n",
    "        album['number']=no\n",
    "    return album\n",
    "print(make_album('bad','good',6))\n",
    "print(make_album('ugly','beauty',2))\n",
    "print(make_album('same','different'))"
   ]
  },
  {
   "cell_type": "code",
   "execution_count": null,
   "id": "f92473e3-7ecb-416d-855a-06755729bfbc",
   "metadata": {},
   "outputs": [],
   "source": [
    "#ex 8.8\n",
    "def make_album(name,title,no=None):\n",
    "    album={'al_name':name,'al_title':title}\n",
    "    if no:\n",
    "        album['number']=no\n",
    "    return album\n",
    "while True:\n",
    "    artist=input(\"Enter your desired artist (Enter 'q' to quit giving inputs):\")\n",
    "    if artist.lower()=='q':\n",
    "        break\n",
    "    title=input(\"Enter the song you like from him:\")\n",
    "    num=input(\"Enter the number of songs in that album:\") \n",
    "    print(make_album(artist,title,num))"
   ]
  },
  {
   "cell_type": "code",
   "execution_count": null,
   "id": "11924447-a183-4b27-a6ce-654c89459d68",
   "metadata": {},
   "outputs": [],
   "source": [
    "#ex 8.9\n",
    "msgs=['hello','hi','welcome']\n",
    "def show_messages(msg_list):\n",
    "    for msg in msgs:\n",
    "        print(f\"{msg.title()}\")\n",
    "show_messages(msg)"
   ]
  },
  {
   "cell_type": "code",
   "execution_count": null,
   "id": "fe4965a2-dd8c-48f3-95db-5bcdbb3004ca",
   "metadata": {},
   "outputs": [],
   "source": [
    "#ex 8.9\n",
    "msgs=['hello','hi','welcome']\n",
    "sent_messages=[]\n",
    "def show_messages(msg_list):\n",
    "    for msg in msgs:\n",
    "        print(f\"{msg.title()}\")\n",
    "show_messages(msg)\n",
    "def sent_msgs(msgs,sent_messages):\n",
    "    while True:\n",
    "        current_msg=msgs.pop()\n",
    "        print(current_msg)\n",
    "        sent_messages.append(current_msg)\n",
    "        if not msgs:\n",
    "            break\n",
    "print(\"All messages are sent!!!\")\n",
    "\n",
    "show_messages(msgs)\n",
    "sent_msgs(msgs,sent_messages)\n",
    "        \n",
    "    "
   ]
  },
  {
   "cell_type": "code",
   "execution_count": null,
   "id": "02aa47a6-bf46-42bb-b154-503139657fda",
   "metadata": {},
   "outputs": [],
   "source": [
    "#ex 8.9\n",
    "def show_messages(msg_list):\n",
    "    for msg in msg_list:\n",
    "        print(f\"-{msg.title()}\")\n",
    "i=['vanakkam','vanthanam','namaskaram']\n",
    "show_messages(i)"
   ]
  },
  {
   "cell_type": "code",
   "execution_count": null,
   "id": "54ad09a8-69ae-4ada-be72-09b38c444dbc",
   "metadata": {},
   "outputs": [],
   "source": [
    "#ex 8.10\n",
    "def show_messages(msg_list):\n",
    "    print(\"The messages that exist right now are:\")\n",
    "    for msg in msg_list:\n",
    "        print(f\"-{msg.title()}\")\n",
    "def send_messages(msg_list,sent_msg):\n",
    "    while True:\n",
    "        current_msg=msg_list.pop()\n",
    "        print(f\"The message that is currently being sent is {current_msg.title()}\")\n",
    "        sent_msg.append(current_msg)\n",
    "        if not msg_list:\n",
    "            break\n",
    "i=['vanakkam','vanthanam','namaskaram']\n",
    "u=[]\n",
    "show_messages(i)\n",
    "send_messages(i,u)\n",
    "print(i)\n",
    "print(u)\n",
    "        "
   ]
  },
  {
   "cell_type": "code",
   "execution_count": null,
   "id": "203ab11f-d383-4b1c-a875-014ee8e593e8",
   "metadata": {},
   "outputs": [],
   "source": [
    "#ex 8.11\n",
    "def show_messages(msg_list):\n",
    "    print(\"The messages that exist right now are:\")\n",
    "    for msg in msg_list:\n",
    "        print(f\"-{msg.title()}\")\n",
    "def send_messages(msg_list,sent_msg):\n",
    "    while True:\n",
    "        current_msg=msg_list.pop()\n",
    "        print(f\"The message that is currently being sent is {current_msg.title()}\")\n",
    "        sent_msg.append(current_msg)\n",
    "        if not msg_list:\n",
    "            break\n",
    "i=['vanakkam','vanthanam','namaskaram']\n",
    "u=[]\n",
    "show_messages(i[:])\n",
    "send_messages(i[:],u)\n",
    "print(i)\n",
    "print(u)\n",
    "        "
   ]
  },
  {
   "cell_type": "code",
   "execution_count": null,
   "id": "6af0f682-3a34-481f-b1f5-f9d09f204a4b",
   "metadata": {},
   "outputs": [],
   "source": [
    "#ex 8.12\n",
    "def food_orders(*types):\n",
    "    print(\"The foods those have been ordered today were:\")\n",
    "    for food in types:\n",
    "        print(f\"-{food.title()}\")\n",
    "food_orders('dosa','idli','puri','vada')"
   ]
  },
  {
   "cell_type": "code",
   "execution_count": null,
   "id": "4c04f654-2a92-48bd-947b-b0493890ba20",
   "metadata": {},
   "outputs": [],
   "source": []
  },
  {
   "cell_type": "code",
   "execution_count": null,
   "id": "bede97d5-fd69-4e69-aa82-58107238838b",
   "metadata": {},
   "outputs": [],
   "source": [
    "#ex 8.13\n",
    "def build_profile(first, last, **user_info):\n",
    "    \"\"\"Build a dictionary containing everything we know about a user.\"\"\"\n",
    "    user_info['first_name'] = first\n",
    "    user_info['last_name'] = last\n",
    "    return user_info\n",
    "\n",
    "user_profile = build_profile(\n",
    "    'albert', 'einstein',\n",
    "    location='princeton',\n",
    "    field='physics'\n",
    ")\n",
    "\n",
    "print(user_profile)\n",
    "me=build_profile('Ezio','Auditore',place='firenze',occupation='assasin',hobby='girls')\n",
    "print(me)\n"
   ]
  },
  {
   "cell_type": "code",
   "execution_count": null,
   "id": "b03c818a-99d9-41f8-a255-c5428477fdb5",
   "metadata": {},
   "outputs": [],
   "source": [
    "#ex 8.14\n",
    "def car_info(manu,model,**info):\n",
    "    info['Manufacturer']=manu\n",
    "    info['Model']=model\n",
    "    return info\n",
    "i=car_info('Maruti','Alto',colour='green',year=2017)\n",
    "print(i)\n",
    "        "
   ]
  },
  {
   "cell_type": "code",
   "execution_count": null,
   "id": "1c88a75a-80b2-4beb-8c14-f65a0fd936b7",
   "metadata": {},
   "outputs": [],
   "source": [
    "import food\n",
    "food.food_orders('pizza','burger','upma')"
   ]
  },
  {
   "cell_type": "code",
   "execution_count": null,
   "id": "1bb40636-8cc7-482d-bb38-ef0dde3c006b",
   "metadata": {},
   "outputs": [],
   "source": [
    "!pip install pandas\n"
   ]
  },
  {
   "cell_type": "code",
   "execution_count": null,
   "id": "342589de-4b17-4b3a-862f-6dc55c5b6856",
   "metadata": {},
   "outputs": [],
   "source": [
    "import sys\n",
    "print(sys.executable)\n",
    "print(sys.version)\n"
   ]
  },
  {
   "cell_type": "code",
   "execution_count": null,
   "id": "57e48cff-4c73-4445-aa29-3416e3c128f1",
   "metadata": {
    "editable": true,
    "slideshow": {
     "slide_type": ""
    },
    "tags": []
   },
   "outputs": [],
   "source": [
    "!pip install nbimporter\n"
   ]
  },
  {
   "cell_type": "code",
   "execution_count": null,
   "id": "b3a8a2e7-3dbe-4316-9f30-5c75ece1ace5",
   "metadata": {},
   "outputs": [],
   "source": [
    "import nbimporter\n",
    "from food import food_orders\n",
    "food_orders('pizza','burger','upma')"
   ]
  },
  {
   "cell_type": "code",
   "execution_count": null,
   "id": "736fdb0f-c271-4bd8-8f0e-6ecafaf74371",
   "metadata": {},
   "outputs": [],
   "source": [
    "#ex 9.1\n",
    "class Restaurent:\n",
    "    def __init__(self,name,type,state):\n",
    "        self.name=name\n",
    "        self.type=type\n",
    "        self.state=state\n",
    "    def describe_restaurent(self):\n",
    "        print(f\"Name of this restaurent is {self.name}.\")\n",
    "        print(f\"This is a {self.type} style restaurent\")\n",
    "    def open_restaurent(self):\n",
    "        print(f\"The restaurent is currently {self.state}.\\n\")\n",
    "\n",
    "my_restaurent=Restaurent('Saravana Bhavan','South-Indian','Open')\n",
    "my_restaurent.describe_restaurent()\n",
    "my_restaurent.open_restaurent()\n",
    "        \n",
    "        \n",
    "        \n",
    "        "
   ]
  },
  {
   "cell_type": "code",
   "execution_count": null,
   "id": "8328b5ac-6a18-4321-9abe-968af0a3c2b9",
   "metadata": {},
   "outputs": [],
   "source": [
    "#ex 9.2\n",
    "my_restaurent1=Restaurent('Barbequeen','Chinese','Open')\n",
    "my_restaurent1.describe_restaurent()\n",
    "my_restaurent1.open_restaurent()\n",
    "\n",
    "my_restaurent2=Restaurent('Radisson','Multi-Cuisine','Closed')\n",
    "my_restaurent2.describe_restaurent()\n",
    "my_restaurent2.open_restaurent()\n",
    "\n",
    "my_restaurent3=Restaurent('KFC','American','Open')\n",
    "my_restaurent3.describe_restaurent()\n",
    "my_restaurent3.open_restaurent()"
   ]
  },
  {
   "cell_type": "code",
   "execution_count": null,
   "id": "55d8fb77-5bab-4c8a-9841-3e28e1e915ad",
   "metadata": {},
   "outputs": [],
   "source": [
    "#ex 9.3\n",
    "class user:\n",
    "    def __init__(self,first_name,last_name,age,region):\n",
    "        self.fn=first_name\n",
    "        self.ln=last_name\n",
    "        self.age=age\n",
    "        self.reg=region\n",
    "    def describe_user(self):\n",
    "        print(f\"First name : {self.fn}\")\n",
    "        print(f\"Last name : {self.ln}\")\n",
    "        print(f\"Age : {self.age}\")\n",
    "        print(f\"Region : {self.reg}\\n\")\n",
    "    def greet_user(self):\n",
    "        print(f\"Hey {self.fn} {self.ln}! Welcome to the community!!!\\n\\n\")\n",
    "\n",
    "user1=user('Ryan','Gosling',33,'LA')\n",
    "user1.describe_user()\n",
    "user1.greet_user()\n",
    "\n",
    "user2=user('Edward','Kenway',27,'Havana')\n",
    "user2.describe_user()\n",
    "user2.greet_user()\n",
    "\n",
    "user3=user('Pau','Cubarsi',18,'Barcelona')\n",
    "user3.describe_user()\n",
    "user3.greet_user()"
   ]
  },
  {
   "cell_type": "code",
   "execution_count": null,
   "id": "a2aa733e-efc1-46f2-bff5-e65afb20bc41",
   "metadata": {},
   "outputs": [],
   "source": [
    "carrots = 0\n",
    "while carrots < 17:\n",
    "    print(\"Ezio eats a carrot 🥕\")\n",
    "    carrots += 1\n",
    "\n",
    "print(\"Still alive. Barely.\")\n"
   ]
  },
  {
   "cell_type": "code",
   "execution_count": 12,
   "id": "f4db8402-4f26-445b-a7b2-4d0189b9a730",
   "metadata": {},
   "outputs": [
    {
     "name": "stdout",
     "output_type": "stream",
     "text": [
      "Name of this restaurent is Saravana Bhavan.\n",
      "This is a South-Indian style restaurent\n",
      "The restaurent is currently Open.\n",
      "\n",
      "The restaurant has currently served 0 persons.\n",
      "The restaurant has currently served 21 persons.\n",
      "The restaurant has currently served 45 persons.\n",
      "The restaurant has currently served 145 persons.\n"
     ]
    }
   ],
   "source": [
    "#ex 9.4\n",
    "class Restaurent:\n",
    "    def __init__(self,name,type,state):\n",
    "        self.name=name\n",
    "        self.type=type\n",
    "        self.state=state\n",
    "        self.number_served=0\n",
    "    def describe_restaurent(self):\n",
    "        print(f\"Name of this restaurent is {self.name}.\")\n",
    "        print(f\"This is a {self.type} style restaurent\")\n",
    "    def open_restaurent(self):\n",
    "        print(f\"The restaurent is currently {self.state}.\\n\")\n",
    "    def ppl_served(self):\n",
    "         print(f\"The restaurant has currently served {self.number_served} persons.\")\n",
    "    def set_number_served(self,served):\n",
    "        self.number_served=served\n",
    "    def increment_number_served(self,increment):\n",
    "        self.number_served+=increment\n",
    "    \n",
    "       \n",
    "\n",
    "my_restaurent=Restaurent('Saravana Bhavan','South-Indian','Open')\n",
    "my_restaurent.describe_restaurent()\n",
    "my_restaurent.open_restaurent()\n",
    "my_restaurent.ppl_served()\n",
    "\n",
    "my_restaurent.number_served=21\n",
    "my_restaurent.ppl_served()\n",
    "\n",
    "my_restaurent.set_number_served(45)\n",
    "my_restaurent.ppl_served()\n",
    "\n",
    "my_restaurent.increment_number_served(100)\n",
    "my_restaurent.ppl_served()\n",
    "\n",
    "        \n",
    "        \n",
    "        \n",
    "        "
   ]
  },
  {
   "cell_type": "code",
   "execution_count": 17,
   "id": "6ac98b8c-fc7d-4655-946f-b7bf7632b83b",
   "metadata": {},
   "outputs": [
    {
     "name": "stdout",
     "output_type": "stream",
     "text": [
      "9\n",
      "0\n"
     ]
    }
   ],
   "source": [
    "#ex 9.5\n",
    "class user:\n",
    "    def __init__(self,first_name,last_name,age,region,login_attempts):\n",
    "        self.fn=first_name\n",
    "        self.ln=last_name\n",
    "        self.age=age\n",
    "        self.reg=region\n",
    "        self.login_att=login_attempts\n",
    "    def describe_user(self):\n",
    "        print(f\"First name : {self.fn}\")\n",
    "        print(f\"Last name : {self.ln}\")\n",
    "        print(f\"Age : {self.age}\")\n",
    "        print(f\"Region : {self.reg}\\n\")\n",
    "    def greet_user(self):\n",
    "        print(f\"Hey {self.fn} {self.ln}! Welcome to the community!!!\\n\\n\")\n",
    "    def increment_login_attempts(self):\n",
    "        self.login_att+=1\n",
    "    def reset_login_attempts(self):\n",
    "        self.login_att=0\n",
    "\n",
    "user1=user('Ryan','Gosling',33,'LA',4)\n",
    "user1.increment_login_attempts()\n",
    "user1.increment_login_attempts()\n",
    "user1.increment_login_attempts()\n",
    "user1.increment_login_attempts()\n",
    "user1.increment_login_attempts()\n",
    "print(user1.login_att)\n",
    "\n",
    "user1.reset_login_attempts()\n",
    "print(user1.login_att)\n",
    "\n"
   ]
  },
  {
   "cell_type": "code",
   "execution_count": 27,
   "id": "2e79fb20-e7e0-45c8-a013-eecbeca9b6b8",
   "metadata": {},
   "outputs": [
    {
     "name": "stdout",
     "output_type": "stream",
     "text": [
      "Name of this restaurent is Mr.Waffles.\n",
      "This is a Ice cream parlour style restaurent\n",
      "The restaurent is currently Open.\n",
      "\n",
      "Currently available Ice Cream flavours :\n",
      "\t\n",
      "-Vanilla\n",
      "\t\n",
      "-Strawberry\n",
      "\t\n",
      "-Butterscotch\n",
      "\t\n",
      "-Chocolate\n"
     ]
    }
   ],
   "source": [
    "#ex 9.6\n",
    "class Restaurent:\n",
    "    def __init__(self,name,type,state):\n",
    "        self.name=name\n",
    "        self.type=type\n",
    "        self.state=state\n",
    "    def describe_restaurent(self):\n",
    "        print(f\"Name of this restaurent is {self.name}.\")\n",
    "        print(f\"This is a {self.type} style restaurent\")\n",
    "    def open_restaurent(self):\n",
    "        print(f\"The restaurent is currently {self.state}.\\n\")\n",
    "class IceCreamStand(Restaurent):\n",
    "    def __init__(self,name,type,state,flavours):\n",
    "        super().__init__(name,type,state)\n",
    "        self.flavours=flavours\n",
    "    def display_flavours(self):\n",
    "        print(f\"Currently available Ice Cream flavours :\")\n",
    "        for flavour in self.flavours:\n",
    "            print(f\"\\t\\n-{flavour}\")\n",
    "\n",
    "restaurant1=IceCreamStand('Mr.Waffles','Ice cream parlour','Open',['Vanilla','Strawberry','Butterscotch','Chocolate'])\n",
    "restaurant1.describe_restaurent()\n",
    "restaurant1.open_restaurent()\n",
    "restaurant1.display_flavours()\n",
    "        "
   ]
  },
  {
   "cell_type": "code",
   "execution_count": 37,
   "id": "b6f3e309-8e95-4d69-b47f-6d1c9e38969c",
   "metadata": {},
   "outputs": [
    {
     "name": "stdout",
     "output_type": "stream",
     "text": [
      "Only Admin has the following previleges:\n",
      "\n",
      "\t-Can add post\n",
      "\t-Can delete post\n",
      "\t-Can ban user\n"
     ]
    }
   ],
   "source": [
    "#ex 9.7\n",
    "class User:\n",
    "    def __init__(self,first_name,last_name,age,region):\n",
    "        self.fn=first_name\n",
    "        self.ln=last_name\n",
    "        self.age=age\n",
    "        self.reg=region\n",
    "    def describe_user(self):\n",
    "        print(f\"First name : {self.fn}\")\n",
    "        print(f\"Last name : {self.ln}\")\n",
    "        print(f\"Age : {self.age}\")\n",
    "        print(f\"Region : {self.reg}\\n\")\n",
    "    def greet_user(self):\n",
    "        print(f\"Hey {self.fn} {self.ln}! Welcome to the community!!!\\n\\n\")\n",
    "class Admin(User):\n",
    "    def __init__(self,first_name,last_name,age,region):\n",
    "        super().__init__(first_name,last_name,age,region)\n",
    "        self.previleges=['Can add post','Can delete post','Can ban user']\n",
    "    def show_previleges(self):\n",
    "        print(\"Only Admin has the following previleges:\\n\")\n",
    "        for pr in self.previleges:\n",
    "            print(f\"\\t-{pr}\")\n",
    "\n",
    "admin1=Admin('Frank','Ocean',37,'Texas')\n",
    "admin1.show_previleges()"
   ]
  },
  {
   "cell_type": "code",
   "execution_count": 43,
   "id": "435b48fd-85fd-47cd-b53c-dc1562ff6fb2",
   "metadata": {},
   "outputs": [
    {
     "name": "stdout",
     "output_type": "stream",
     "text": [
      "Only Admin has the following previleges:\n",
      "\n",
      "\t-Can add post\n",
      "\t-Can delete post\n",
      "\t-Can ban user\n"
     ]
    }
   ],
   "source": [
    "#ex 9.8\n",
    "class User:\n",
    "    def __init__(self,first_name,last_name,age,region):\n",
    "        self.fn=first_name\n",
    "        self.ln=last_name\n",
    "        self.age=age\n",
    "        self.reg=region\n",
    "    def describe_user(self):\n",
    "        print(f\"First name : {self.fn}\")\n",
    "        print(f\"Last name : {self.ln}\")\n",
    "        print(f\"Age : {self.age}\")\n",
    "        print(f\"Region : {self.reg}\\n\")\n",
    "    def greet_user(self):\n",
    "        print(f\"Hey {self.fn} {self.ln}! Welcome to the community!!!\\n\\n\")\n",
    "\n",
    "class Previleges:\n",
    "    def __init__(self,previleges=['Can add post','Can delete post','Can ban user']):\n",
    "        self.previleges=previleges\n",
    "    def show_previleges(self):\n",
    "        print(\"Only Admin has the following previleges:\\n\")\n",
    "        for pr in self.previleges:\n",
    "            print(f\"\\t-{pr}\")\n",
    "\n",
    "class Admin(User):\n",
    "    def __init__(self,first_name,last_name,age,region):\n",
    "        super().__init__(first_name,last_name,age,region)\n",
    "        self.previleges=Previleges()\n",
    "\n",
    "admin1=Admin('Frank','Ocean',37,'Texas')\n",
    "admin1.previleges.show_previleges()\n",
    "\n",
    "\n",
    "            \n",
    "            "
   ]
  },
  {
   "cell_type": "code",
   "execution_count": 50,
   "id": "fa2f51e6-a778-4a3f-90a4-256d75802edf",
   "metadata": {},
   "outputs": [
    {
     "name": "stdout",
     "output_type": "stream",
     "text": [
      "2019 Tesla Model S\n",
      "This car has a 75-kWh battery.\n",
      "This car can go about 260 miles on a full charge.\n",
      "This car can go about 315 miles on a full charge.\n"
     ]
    }
   ],
   "source": [
    "class Car:\n",
    "    \"\"\"A simple attempt to represent a car.\"\"\"\n",
    "\n",
    "    def __init__(self, make, model, year):\n",
    "        self.make = make\n",
    "        self.model = model\n",
    "        self.year = year\n",
    "        self.odometer_reading = 0\n",
    "\n",
    "    def get_descriptive_name(self):\n",
    "        long_name = f\"{self.year} {self.make} {self.model}\"\n",
    "        return long_name.title()\n",
    "\n",
    "    def read_odometer(self):\n",
    "        print(f\"This car has {self.odometer_reading} miles on it.\")\n",
    "\n",
    "    def update_odometer(self, mileage):\n",
    "        if mileage >= self.odometer_reading:\n",
    "            self.odometer_reading = mileage\n",
    "        else:\n",
    "            print(\"You can't roll back an odometer!\")\n",
    "\n",
    "    def increment_odometer(self, miles):\n",
    "        self.odometer_reading += miles\n",
    "\n",
    "\n",
    "class Battery:\n",
    "    \"\"\"A simple attempt to model a battery for an electric car.\"\"\"\n",
    "\n",
    "    def __init__(self, battery_size=75):\n",
    "        \"\"\"Initialize the battery's attributes.\"\"\"\n",
    "        self.battery_size = battery_size\n",
    "\n",
    "    def describe_battery(self):\n",
    "        \"\"\"Print a statement describing the battery size.\"\"\"\n",
    "        print(f\"This car has a {self.battery_size}-kWh battery.\")\n",
    "\n",
    "    def get_range(self):\n",
    "        \"\"\"Print a statement about the range this battery provides.\"\"\"\n",
    "        if self.battery_size == 75:\n",
    "            car_range = 260\n",
    "        elif self.battery_size == 100:\n",
    "            car_range = 315\n",
    "        else:\n",
    "            car_range = \"an unknown number of\"\n",
    "        print(f\"This car can go about {car_range} miles on a full charge.\")\n",
    "    def upgrade_battery(self):\n",
    "        if self.battery_size != 100:\n",
    "            self.battery_size=100\n",
    "\n",
    "class ElectricCar(Car):\n",
    "    \"\"\"Represent aspects of a car, specific to electric vehicles.\"\"\"\n",
    "\n",
    "    def __init__(self, make, model, year):\n",
    "        \"\"\"\n",
    "        Initialize attributes of the parent class.\n",
    "        Then initialize attributes specific to an electric car.\n",
    "        \"\"\"\n",
    "        super().__init__(make, model, year)\n",
    "        self.battery = Battery()\n",
    "\n",
    "\n",
    "# 🔧 Creating an electric car object and showing battery info\n",
    "my_tesla = ElectricCar('tesla', 'model s', 2019)\n",
    "print(my_tesla.get_descriptive_name())\n",
    "my_tesla.battery.describe_battery()\n",
    "my_tesla.battery.get_range()\n",
    "my_tesla.battery.upgrade_battery()\n",
    "my_tesla.battery.get_range()\n",
    "\n",
    "\n",
    "\n"
   ]
  },
  {
   "cell_type": "code",
   "execution_count": 52,
   "id": "074b138c-c5a2-4278-bd76-5831dc9e3dbe",
   "metadata": {},
   "outputs": [
    {
     "name": "stdout",
     "output_type": "stream",
     "text": [
      "5\n"
     ]
    }
   ],
   "source": [
    "l=[1,2,3,4,5]\n"
   ]
  },
  {
   "cell_type": "code",
   "execution_count": 55,
   "id": "d2162700-f489-4e94-ad60-9f3fe71391aa",
   "metadata": {},
   "outputs": [
    {
     "name": "stdout",
     "output_type": "stream",
     "text": [
      "12\n"
     ]
    }
   ],
   "source": [
    "from random import randint\n",
    "f=randint(1,21)\n",
    "print(f)"
   ]
  },
  {
   "cell_type": "code",
   "execution_count": 57,
   "id": "73e09e21-9bf3-4ac5-908d-341ef5e0fff9",
   "metadata": {},
   "outputs": [
    {
     "name": "stdout",
     "output_type": "stream",
     "text": [
      "The best Assassin ever is Bayek.\n"
     ]
    }
   ],
   "source": [
    "from random import choice\n",
    "f=['Ezio','Altair','Edward','Connor','Bayek']\n",
    "c=choice(f)\n",
    "print(f\"The best Assassin ever is {c}.\")"
   ]
  },
  {
   "cell_type": "code",
   "execution_count": 83,
   "id": "a57918b3-8f06-468a-862a-0febc40c3952",
   "metadata": {},
   "outputs": [
    {
     "name": "stdout",
     "output_type": "stream",
     "text": [
      "The number you got is 6.\n"
     ]
    },
    {
     "ename": "TypeError",
     "evalue": "Die.roll_die() takes 1 positional argument but 2 were given",
     "output_type": "error",
     "traceback": [
      "\u001b[31m---------------------------------------------------------------------------\u001b[39m",
      "\u001b[31mTypeError\u001b[39m                                 Traceback (most recent call last)",
      "\u001b[36mCell\u001b[39m\u001b[36m \u001b[39m\u001b[32mIn[83]\u001b[39m\u001b[32m, line 11\u001b[39m\n\u001b[32m      9\u001b[39m roll1=Die()\n\u001b[32m     10\u001b[39m roll1.roll_die()\n\u001b[32m---> \u001b[39m\u001b[32m11\u001b[39m \u001b[43mroll1\u001b[49m\u001b[43m.\u001b[49m\u001b[43mroll_die\u001b[49m\u001b[43m(\u001b[49m\u001b[32;43m7\u001b[39;49m\u001b[43m)\u001b[49m\n",
      "\u001b[31mTypeError\u001b[39m: Die.roll_die() takes 1 positional argument but 2 were given"
     ]
    }
   ],
   "source": [
    "import random\n",
    "class Die:\n",
    "    def __init__(self,sides=6):\n",
    "        self.sides=sides\n",
    "    def roll_die(self):\n",
    "        f=randint(1,self.sides)\n",
    "        print(f\"The number you got is {self.sides}.\")\n",
    "\n",
    "roll1=Die()\n",
    "roll1.roll_die()\n",
    "roll1.roll_die(7)\n",
    "    \n",
    "    "
   ]
  },
  {
   "cell_type": "code",
   "execution_count": 2,
   "id": "a1861c1e-17d0-4d68-856f-6b7724b3e675",
   "metadata": {},
   "outputs": [
    {
     "name": "stdout",
     "output_type": "stream",
     "text": [
      "\n",
      "Rolling a 6-sided die 10 times:\n",
      "The number you got is 4.\n",
      "The number you got is 4.\n",
      "The number you got is 2.\n",
      "The number you got is 1.\n",
      "The number you got is 1.\n",
      "The number you got is 4.\n",
      "The number you got is 6.\n",
      "The number you got is 2.\n",
      "The number you got is 3.\n",
      "The number you got is 3.\n",
      "\n",
      "Rolling a 10-sided die 10 times:\n",
      "The number you got is 9.\n",
      "The number you got is 8.\n",
      "The number you got is 1.\n",
      "The number you got is 9.\n",
      "The number you got is 8.\n",
      "The number you got is 1.\n",
      "The number you got is 7.\n",
      "The number you got is 9.\n",
      "The number you got is 6.\n",
      "The number you got is 6.\n",
      "\n",
      "Rolling a 20-sided die 10 times:\n",
      "The number you got is 18.\n",
      "The number you got is 8.\n",
      "The number you got is 3.\n",
      "The number you got is 14.\n",
      "The number you got is 10.\n",
      "The number you got is 3.\n",
      "The number you got is 1.\n",
      "The number you got is 1.\n",
      "The number you got is 2.\n",
      "The number you got is 16.\n"
     ]
    }
   ],
   "source": [
    "#ex 9.13\n",
    "import random\n",
    "\n",
    "class Die:\n",
    "    def __init__(self, sides=6):\n",
    "        self.sides = sides\n",
    "\n",
    "    def roll_die(self):\n",
    "        f = random.randint(1, self.sides)\n",
    "        print(f\"The number you got is {f}.\")\n",
    "\n",
    "    def roll_10_times(self):\n",
    "        print(f\"\\nRolling a {self.sides}-sided die 10 times:\")\n",
    "        count = 0\n",
    "        while count < 10:\n",
    "            self.roll_die()\n",
    "            count += 1\n",
    "\n",
    "# 🔥 6-sided die\n",
    "die1 = Die()\n",
    "die1.roll_10_times()\n",
    "\n",
    "# 🔥 10-sided die\n",
    "die2 = Die(10)\n",
    "die2.roll_10_times()\n",
    "\n",
    "# 🔥 20-sided die\n",
    "die3 = Die(20)\n",
    "die3.roll_10_times()\n"
   ]
  },
  {
   "cell_type": "code",
   "execution_count": 6,
   "id": "ce625e9b-7274-4776-a41d-f68b4bfaa970",
   "metadata": {},
   "outputs": [
    {
     "name": "stdout",
     "output_type": "stream",
     "text": [
      "The lottery winning digits/numbers :\n",
      "-\tq\n",
      "-\t0\n",
      "-\t2\n",
      "-\t7\n"
     ]
    }
   ],
   "source": [
    "#ex 9.14\n",
    "from random import choice\n",
    "lottery_list=['a','h','f','q','y',1,2,3,4,5,6,7,8,9,0]\n",
    "random_select=[choice(lottery_list),choice(lottery_list),choice(lottery_list),choice(lottery_list)]\n",
    "print(\"The lottery winning digits/numbers :\")\n",
    "for rs in random_select:\n",
    "    print(f\"-\\t{rs}\")\n",
    "\n",
    "\n",
    "    "
   ]
  },
  {
   "cell_type": "code",
   "execution_count": 20,
   "id": "490519e4-c031-4114-83de-cfdfda43d12f",
   "metadata": {},
   "outputs": [
    {
     "name": "stdout",
     "output_type": "stream",
     "text": [
      "['q', 'a', 'h', 'y']\n",
      "qahy\n"
     ]
    }
   ],
   "source": [
    "from random import sample\n",
    "\n",
    "lottery_list = ['a', 'h', 'f', 'q', 'y', 1, 2, 3, 4, 5, 6, 7, 8, 9, 0]\n",
    "\n",
    "# sample() avoids duplicates automatically\n",
    "winning_ticket = sample(lottery_list, 4)\n",
    "print(winning_ticket)\n",
    "s=''.join(list(map(str,winning_ticket)))\n",
    "print(s)\n"
   ]
  },
  {
   "cell_type": "code",
   "execution_count": 22,
   "id": "f1d2f237-e653-4e9c-957b-690bfb222061",
   "metadata": {},
   "outputs": [
    {
     "name": "stdout",
     "output_type": "stream",
     "text": [
      "My ticket is a5f1.\n",
      "Hurray! I won the lottery in 6130 tries...\n"
     ]
    }
   ],
   "source": [
    "#ex 9.15\n",
    "from random import sample\n",
    "lottery_list = ['a', 'h', 'f', 'q', 'y', 1, 2, 3, 4, 5, 6, 7, 8, 9, 0]\n",
    "my_ticket=sample(lottery_list,4)\n",
    "print(f\"My ticket is {''.join(list(map(str,my_ticket)))}.\")\n",
    "count=0\n",
    "while True:\n",
    "    drawn_ticket=sample(lottery_list,4)\n",
    "    count+=1\n",
    "    if drawn_ticket==my_ticket:\n",
    "        break\n",
    "print(f\"Hurray! I won the lottery in {count} tries...\")\n",
    "\n"
   ]
  },
  {
   "cell_type": "code",
   "execution_count": 49,
   "id": "a08ca9ae-cb5c-4824-a1e4-a4635350b54e",
   "metadata": {},
   "outputs": [
    {
     "name": "stdout",
     "output_type": "stream",
     "text": [
      "Home Sweet Home!!!\n",
      "Wherever you go...\n",
      "Don't forget where your real home is....\n"
     ]
    }
   ],
   "source": [
    "with open(r\"C:\\Users\\LAKSHIN\\OneDrive\\Desktop\\Jupyter projects\\home.txt\") as file:\n",
    "    read_file=file.read()\n",
    "    print(read_file)"
   ]
  },
  {
   "cell_type": "code",
   "execution_count": 3,
   "id": "50cb4ff8-7e15-48a2-a6f9-314a9614092b",
   "metadata": {},
   "outputs": [
    {
     "name": "stdout",
     "output_type": "stream",
     "text": [
      "Home Sweet Home!!!\n",
      "\n",
      "Wherever you go...\n",
      "\n",
      "Don't forget where your real home is....\n"
     ]
    }
   ],
   "source": [
    "with open(r\"C:\\Users\\LAKSHIN\\OneDrive\\Desktop\\Jupyter projects\\home.txt\") as file:\n",
    "    for line in file:\n",
    "        print(line)"
   ]
  },
  {
   "cell_type": "code",
   "execution_count": 4,
   "id": "4ffd8786-c9a1-4ed1-93fc-e208e0903057",
   "metadata": {},
   "outputs": [
    {
     "name": "stdout",
     "output_type": "stream",
     "text": [
      "Home Sweet Home!!!\n",
      "Wherever you go...\n",
      "Don't forget where your real home is....\n"
     ]
    }
   ],
   "source": [
    "with open(r\"C:\\Users\\LAKSHIN\\OneDrive\\Desktop\\Jupyter projects\\home.txt\") as file:\n",
    "    lines=file.readlines()\n",
    "    for line in lines:\n",
    "        print(line.strip())"
   ]
  },
  {
   "cell_type": "code",
   "execution_count": 15,
   "id": "f1e70519-33ba-497b-bae4-cbdc019a3ead",
   "metadata": {},
   "outputs": [
    {
     "name": "stdout",
     "output_type": "stream",
     "text": [
      "In python you can create variables and assign values to it.\n",
      "In python you can create cool stuff.\n",
      "In python you can ask input from a user.\n"
     ]
    }
   ],
   "source": [
    "#ex 10.1\n",
    "with open(r\"C:\\Users\\LAKSHIN\\OneDrive\\Desktop\\Jupyter projects\\Ex 10.1.txt\") as file:\n",
    "    readfile=file.read()\n",
    "    print(readfile)\n",
    "\n",
    "   "
   ]
  },
  {
   "cell_type": "code",
   "execution_count": 11,
   "id": "9224232e-8889-4055-b1e9-0dcaf6f7cf67",
   "metadata": {},
   "outputs": [
    {
     "name": "stdout",
     "output_type": "stream",
     "text": [
      "In python you can create variables and assign values to it.\n",
      "In python you can create cool stuff.\n",
      "In python you can ask input from a user.\n"
     ]
    }
   ],
   "source": [
    "with open(r\"C:\\Users\\LAKSHIN\\OneDrive\\Desktop\\Jupyter projects\\Ex 10.1.txt\") as file:\n",
    "    for line in file:\n",
    "        print(line.strip())"
   ]
  },
  {
   "cell_type": "code",
   "execution_count": 13,
   "id": "7c7cffa9-1026-4e6f-a100-5970bbc34ad0",
   "metadata": {},
   "outputs": [
    {
     "name": "stdout",
     "output_type": "stream",
     "text": [
      "In python you can create variables and assign values to it.\n",
      "In python you can create cool stuff.\n",
      "In python you can ask input from a user.\n"
     ]
    }
   ],
   "source": [
    "with open(r\"C:\\Users\\LAKSHIN\\OneDrive\\Desktop\\Jupyter projects\\Ex 10.1.txt\") as file:\n",
    "    readlines=file.readlines()\n",
    "    for line in readlines:\n",
    "        print(line.strip())"
   ]
  },
  {
   "cell_type": "code",
   "execution_count": 18,
   "id": "340e7ccb-9aac-4e39-a696-f101bb273909",
   "metadata": {},
   "outputs": [
    {
     "name": "stdout",
     "output_type": "stream",
     "text": [
      "In C you can create variables and assign values to it.\n",
      "In C you can create cool stuff.\n",
      "In C you can ask input from a user.\n"
     ]
    }
   ],
   "source": [
    "#ex 10.2\n",
    "with open(r\"C:\\Users\\LAKSHIN\\OneDrive\\Desktop\\Jupyter projects\\Ex 10.1.txt\") as file:\n",
    "    readlines=file.readlines()\n",
    "    for line in readlines:\n",
    "        C=line.replace('python','C')\n",
    "        print(C.strip())"
   ]
  },
  {
   "cell_type": "code",
   "execution_count": 43,
   "id": "c653f8a9-5350-4a39-8d92-e066c63a1e4e",
   "metadata": {},
   "outputs": [],
   "source": [
    "file='lak.txt'\n",
    "with open(file,'w') as f:\n",
    "    f.write(\"Hello WORLD\")\n"
   ]
  },
  {
   "cell_type": "code",
   "execution_count": 22,
   "id": "2483e78c-1272-4dd9-8d39-b17f540da7c4",
   "metadata": {},
   "outputs": [
    {
     "name": "stdin",
     "output_type": "stream",
     "text": [
      "Enter your name: Lakshin\n"
     ]
    }
   ],
   "source": [
    "#Ex 10.3\n",
    "guest=input(\"Enter your name:\")\n",
    "file='guests.txt'\n",
    "with open(file,'w') as f:\n",
    "    f.write(guest)"
   ]
  },
  {
   "cell_type": "code",
   "execution_count": 26,
   "id": "f2937996-75c2-40fc-b3e0-7c8fbdd2d854",
   "metadata": {},
   "outputs": [
    {
     "name": "stdin",
     "output_type": "stream",
     "text": [
      "Enter your name: Ezio\n",
      "Are there any guests left? (yes/no) yes\n",
      "Enter your name: Altair\n",
      "Are there any guests left? (yes/no) no\n"
     ]
    }
   ],
   "source": [
    "#Ex 10.4\n",
    "file='guests.txt'\n",
    "with open(file,'w') as f:\n",
    "    while True:\n",
    "        guest=input(\"Enter your name:\")\n",
    "        f.write(f\"Hello {guest.title()}, Hope you're fine!!!\\n\")\n",
    "        repeat=input(\"Are there any guests left? (yes/no)\")\n",
    "        if repeat.lower()=='no':\n",
    "            break\n",
    "        "
   ]
  },
  {
   "cell_type": "code",
   "execution_count": 32,
   "id": "b5d80f83-2239-4815-8a5f-2c51572afbb7",
   "metadata": {},
   "outputs": [
    {
     "name": "stdin",
     "output_type": "stream",
     "text": [
      "Enter your name:(Enter 'q' to quit the poll) Lakshin\n",
      "Why do you like programming?? It's good\n",
      "Enter your name:(Enter 'q' to quit the poll) Surya\n",
      "Why do you like programming?? Cool\n",
      "Enter your name:(Enter 'q' to quit the poll) q\n"
     ]
    }
   ],
   "source": [
    "#Ex 10.5\n",
    "with open('programming_poll.txt','w') as file:\n",
    "    while True:\n",
    "        name=input(\"Enter your name:(Enter 'q' to quit the poll)\")\n",
    "        if name.lower()=='q':\n",
    "            break\n",
    "        poll=input(\"Why do you like programming??\")\n",
    "        file.write(f\"{name.title()} says {poll}\\n\")\n",
    "        "
   ]
  },
  {
   "cell_type": "code",
   "execution_count": 38,
   "id": "85e66096-5a25-4c33-b4ad-0af61d6e650d",
   "metadata": {},
   "outputs": [
    {
     "name": "stdin",
     "output_type": "stream",
     "text": [
      "Enter a number: 2\n",
      "Enter another number: 3\n"
     ]
    },
    {
     "name": "stdout",
     "output_type": "stream",
     "text": [
      "5\n"
     ]
    },
    {
     "name": "stdin",
     "output_type": "stream",
     "text": [
      "Do you want to try again? (yes/no) yes\n",
      "Enter a number: 2\n",
      "Enter another number: d\n"
     ]
    },
    {
     "name": "stdout",
     "output_type": "stream",
     "text": [
      "Please give a valid input.\n"
     ]
    },
    {
     "name": "stdin",
     "output_type": "stream",
     "text": [
      "Do you want to try again? (yes/no) yes\n",
      "Enter a number: 22\n",
      "Enter another number: 44\n"
     ]
    },
    {
     "name": "stdout",
     "output_type": "stream",
     "text": [
      "66\n"
     ]
    },
    {
     "name": "stdin",
     "output_type": "stream",
     "text": [
      "Do you want to try again? (yes/no) yes\n",
      "Enter a number: edas\n"
     ]
    },
    {
     "name": "stdout",
     "output_type": "stream",
     "text": [
      "Please give a valid input.\n"
     ]
    },
    {
     "name": "stdin",
     "output_type": "stream",
     "text": [
      "Do you want to try again? (yes/no) no\n"
     ]
    }
   ],
   "source": [
    "#Ex 10.6 and 10.7\n",
    "while True:\n",
    "    try:\n",
    "        num1=int(input(\"Enter a number:\"))\n",
    "        num2=int(input(\"Enter another number:\"))\n",
    "        add=num1+num2\n",
    "        print(add)\n",
    "    except ValueError:\n",
    "        print(\"Please give a valid input.\")\n",
    "    repeat=input(\"Do you want to try again? (yes/no)\")\n",
    "    if repeat.lower()=='no':\n",
    "        break\n",
    "        \n"
   ]
  },
  {
   "cell_type": "code",
   "execution_count": 54,
   "id": "128b65b3-235b-4749-91a5-700d72cd64fe",
   "metadata": {},
   "outputs": [
    {
     "name": "stdout",
     "output_type": "stream",
     "text": [
      "Supra cat\n",
      "Lambo cat\n",
      "Ferrari cat\n",
      "German Shepard\n",
      "Rottweiler\n",
      "Golden retriever \n",
      "\n"
     ]
    }
   ],
   "source": [
    "#Ex 10.8\n",
    "try:\n",
    "    with open(r\"C:\\Users\\LAKSHIN\\OneDrive\\Desktop\\Jupyter projects\\cats.txt\") as file1:\n",
    "        read1=file1.read()\n",
    "        print(read1)\n",
    "    \n",
    "    with open(r\"C:\\Users\\LAKSHIN\\OneDrive\\Desktop\\Jupyter projects\\dogs.txt\") as file2:\n",
    "        read2=file2.read()\n",
    "        print(read2)\n",
    "except FileNotFoundError:\n",
    "    print(\"Sorry, Your file is not available\")"
   ]
  },
  {
   "cell_type": "code",
   "execution_count": 53,
   "id": "2ef3d5b8-b583-4998-8cee-171f7fa6b87f",
   "metadata": {},
   "outputs": [
    {
     "name": "stdout",
     "output_type": "stream",
     "text": [
      "German Shepard\n",
      "Rottweiler\n",
      "Golden retriever \n",
      "\n"
     ]
    }
   ],
   "source": [
    "with open(r\"C:\\Users\\LAKSHIN\\OneDrive\\Desktop\\Jupyter projects\\dogs.txt\") as file:\n",
    "    read=file.read()\n",
    "    print(read)"
   ]
  },
  {
   "cell_type": "code",
   "execution_count": 55,
   "id": "f5cba2be-054a-49f4-b8a1-3389c3915000",
   "metadata": {},
   "outputs": [
    {
     "name": "stdout",
     "output_type": "stream",
     "text": [
      "Supra cat\n",
      "Lambo cat\n",
      "Ferrari cat\n",
      "German Shepard\n",
      "Rottweiler\n",
      "Golden retriever \n",
      "\n"
     ]
    }
   ],
   "source": [
    "#Ex 10.9\n",
    "try:\n",
    "    with open(r\"C:\\Users\\LAKSHIN\\OneDrive\\Desktop\\Jupyter projects\\cats.txt\") as file1:\n",
    "        read1=file1.read()\n",
    "        print(read1)\n",
    "    \n",
    "    with open(r\"C:\\Users\\LAKSHIN\\OneDrive\\Desktop\\Jupyter projects\\dogs.txt\") as file2:\n",
    "        read2=file2.read()\n",
    "        print(read2)\n",
    "except FileNotFoundError:\n",
    "    pass"
   ]
  },
  {
   "cell_type": "code",
   "execution_count": 70,
   "id": "65e737d8-1c2b-473d-9f3e-f7c9f8ca2d01",
   "metadata": {},
   "outputs": [
    {
     "name": "stdout",
     "output_type": "stream",
     "text": [
      "26\n"
     ]
    }
   ],
   "source": [
    "#Ex 10.10\n",
    "with open(r\"C:\\Users\\LAKSHIN\\OneDrive\\Desktop\\Jupyter projects\\score.txt\") as file:\n",
    "    totalcount=0\n",
    "    for line in file:\n",
    "        totalcount+=line.lower().count('the ')\n",
    "print(totalcount)"
   ]
  },
  {
   "cell_type": "code",
   "execution_count": 72,
   "id": "fe554231-2277-4d7b-a64a-29a0449ff413",
   "metadata": {},
   "outputs": [
    {
     "name": "stdin",
     "output_type": "stream",
     "text": [
      "Enter your favourite number: 3\n"
     ]
    }
   ],
   "source": [
    "#Ex 10.11\n",
    "import json\n",
    "file='fav_num.json'\n",
    "fav_num=input(\"Enter your favourite number:\")\n",
    "with open(file,'w') as f:\n",
    "    json.dump(fav_num,f)\n",
    "    "
   ]
  },
  {
   "cell_type": "code",
   "execution_count": 75,
   "id": "06624e7e-3f21-4f9a-9359-96732d01ed98",
   "metadata": {},
   "outputs": [
    {
     "name": "stdout",
     "output_type": "stream",
     "text": [
      "I know that your favourite number is 3\n"
     ]
    }
   ],
   "source": [
    "import json\n",
    "file='fav_num.json'\n",
    "with open(file) as f:\n",
    "    num=json.load(f)\n",
    "    print(f\"I know that your favourite number is {num}\")\n"
   ]
  },
  {
   "cell_type": "code",
   "execution_count": 78,
   "id": "1a93da4c-eb33-49c9-a0ea-f9c8d626f728",
   "metadata": {},
   "outputs": [],
   "source": [
    "#Ex 10.12\n",
    "def fav():\n",
    "    import json\n",
    "    try:\n",
    "        file='fav_num.json'\n",
    "        with open(file) as f:\n",
    "            num=json.load(f)\n",
    "    except FileNotFoundError:\n",
    "        file='fav_num.json'\n",
    "        fav_num=input(\"Enter your favourite number:\")\n",
    "        with open(file,'w') as f:\n",
    "            json.dump(fav_num,f)\n",
    "    else:\n",
    "        print(f\"I know that your favourite number is {num}\")\n",
    "    "
   ]
  },
  {
   "cell_type": "code",
   "execution_count": 79,
   "id": "79d6b2e4-7628-4beb-8fe1-738a516b6bd8",
   "metadata": {},
   "outputs": [
    {
     "name": "stdout",
     "output_type": "stream",
     "text": [
      "I know that your favourite number is 3\n"
     ]
    }
   ],
   "source": [
    "fav()"
   ]
  },
  {
   "cell_type": "code",
   "execution_count": null,
   "id": "556136bb-e83b-443d-bfa3-bf0cf0b37e0e",
   "metadata": {},
   "outputs": [],
   "source": [
    "#Ex 10.13\n",
    "import json\n",
    "\n",
    "def get_stored_username():\n",
    "    \"\"\"Get stored username if available.\"\"\"\n",
    "    filename = 'username.json'\n",
    "    try:\n",
    "        with open(filename) as f:\n",
    "            username = json.load(f)\n",
    "    except FileNotFoundError:\n",
    "        return None\n",
    "    else:\n",
    "        return username\n",
    "\n",
    "def get_new_username():\n",
    "    \"\"\"Prompt for a new username.\"\"\"\n",
    "    username = input(\"What is your name? \")\n",
    "    filename = 'username.json'\n",
    "    with open(filename, 'w') as f:\n",
    "        json.dump(username, f)\n",
    "    return username\n",
    "\n",
    "def greet_user():\n",
    "    \"\"\"Greet the user by name.\"\"\"\n",
    "    username = get_stored_username()\n",
    "    if username:\n",
    "        print(f\"Welcome back, {username}!\")\n",
    "    else:\n",
    "        username = get_new_username()\n",
    "        print(f\"We'll remember you when you come back, {username}!\")\n",
    "\n",
    "greet_user()\n"
   ]
  }
 ],
 "metadata": {
  "kernelspec": {
   "display_name": "Python 3.13.3 🔥 Ezio Edition",
   "language": "python",
   "name": "python313"
  },
  "language_info": {
   "codemirror_mode": {
    "name": "ipython",
    "version": 3
   },
   "file_extension": ".py",
   "mimetype": "text/x-python",
   "name": "python",
   "nbconvert_exporter": "python",
   "pygments_lexer": "ipython3",
   "version": "3.13.5"
  }
 },
 "nbformat": 4,
 "nbformat_minor": 5
}
